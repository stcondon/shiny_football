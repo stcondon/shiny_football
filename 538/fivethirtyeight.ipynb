{
 "cells": [
  {
   "cell_type": "code",
   "execution_count": null,
   "metadata": {},
   "outputs": [],
   "source": [
    "from selenium import webdriver\n",
    "from selenium.webdriver.firefox.options import Options\n",
    "\n",
    "url = 'https://github.com/fivethirtyeight/data/tree/master/soccer-spi'\n",
    "opts = Options()\n",
    "opts.add_argument(\"--headless\")\n",
    "fp = webdriver.FirefoxProfile()\n",
    "# set preferences so it doesn't ask me if i'm ok downloading a csv file\n",
    "fp.set_preference('browser.helperApps.neverAsk.saveToDisk', \"text/csv, text/comma-separated-values\")\n",
    "browser = webdriver.Firefox(executable_path = '/usr/local/bin/geckodriver', firefox_profile=fp, options=opts)\n",
    "browser.get(url)\n",
    "elem = browser.find_element_by_xpath('/html/body/div[4]/div/div/div[2]/div[1]/div[4]/div[2]/article/table/tbody/tr/td/div/table/tbody/tr/td[1]/div/a')\n",
    "elem.click()\n",
    "browser.quit()"
   ]
  }
 ],
 "metadata": {
  "kernelspec": {
   "display_name": "Python 3",
   "language": "python",
   "name": "python3"
  },
  "language_info": {
   "codemirror_mode": {
    "name": "ipython",
    "version": 3
   },
   "file_extension": ".py",
   "mimetype": "text/x-python",
   "name": "python",
   "nbconvert_exporter": "python",
   "pygments_lexer": "ipython3",
   "version": "3.6.4"
  }
 },
 "nbformat": 4,
 "nbformat_minor": 2
}
