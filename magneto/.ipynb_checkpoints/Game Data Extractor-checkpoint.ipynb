{
 "cells": [
  {
   "cell_type": "markdown",
   "metadata": {
    "deletable": true,
    "editable": true
   },
   "source": [
    "# Now we pull down that sweet sweet game data"
   ]
  },
  {
   "cell_type": "code",
   "execution_count": 1,
   "metadata": {
    "collapsed": true,
    "deletable": true,
    "editable": true
   },
   "outputs": [],
   "source": [
    "from selenium import webdriver\n",
    "import requests\n",
    "from bs4 import BeautifulSoup\n",
    "import re\n",
    "import pandas as pd\n",
    "# import numpy as np"
   ]
  },
  {
   "cell_type": "markdown",
   "metadata": {
    "deletable": true,
    "editable": true
   },
   "source": [
    "## sopa bonita to count and properly aim xpaths\n",
    "### should I make a pandas data frame a input?\n",
    "look at old pandas stuff"
   ]
  },
  {
   "cell_type": "code",
   "execution_count": 2,
   "metadata": {
    "collapsed": true,
    "deletable": true,
    "editable": true
   },
   "outputs": [],
   "source": [
    "## Inputs\n",
    "# country = 'spain'\n",
    "country = 'england'"
   ]
  },
  {
   "cell_type": "code",
   "execution_count": 21,
   "metadata": {
    "collapsed": false,
    "deletable": true,
    "editable": true
   },
   "outputs": [
    {
     "data": {
      "text/plain": [
       "['2017/2018',\n",
       " '2016/2017',\n",
       " '2015/2016',\n",
       " '2014/2015',\n",
       " '2013/2014',\n",
       " '2012/2013',\n",
       " '2011/2012',\n",
       " '2010/2011',\n",
       " '2009/2010',\n",
       " '2008/2009',\n",
       " '2007/2008',\n",
       " '2006/2007',\n",
       " '2005/2006',\n",
       " '2004/2005',\n",
       " '2003/2004',\n",
       " '2002/2003',\n",
       " '2001/2002',\n",
       " '2000/2001',\n",
       " '1999/2000',\n",
       " '1998/1999',\n",
       " '1997/1998',\n",
       " '1996/1997',\n",
       " '1995/1996',\n",
       " '1994/1995',\n",
       " '1993/1994']"
      ]
     },
     "execution_count": 21,
     "metadata": {},
     "output_type": "execute_result"
    }
   ],
   "source": [
    "res = requests.get('http://www.football-data.co.uk/' + country + 'm.php')# res is thing in latin\n",
    "soup = BeautifulSoup(res.content, \"lxml\")\n",
    "elem_dict = {'i':'>Season ', 'a':'>'}# gotta iterate through the dictionary\n",
    "temp = soup.find_all('i')\n",
    "paragraphs = []\n",
    "for x in temp:\n",
    "    paragraphs.append(str(x))\n",
    "paragraphs = paragraphs[1:]\n",
    "[i.split('>Season ')[1].split('<')[0] for i in paragraphs]"
   ]
  },
  {
   "cell_type": "code",
   "execution_count": 19,
   "metadata": {
    "collapsed": false
   },
   "outputs": [
    {
     "data": {
      "text/plain": [
       "'2017/2018'"
      ]
     },
     "execution_count": 19,
     "metadata": {},
     "output_type": "execute_result"
    }
   ],
   "source": [
    "paragraphs[1].split('>Season ')[1].split('<')[0]"
   ]
  },
  {
   "cell_type": "code",
   "execution_count": 6,
   "metadata": {
    "collapsed": false,
    "deletable": true,
    "editable": true
   },
   "outputs": [
    {
     "data": {
      "text/plain": [
       "(<i>Season 1993/1994</i>, bs4.element.Tag)"
      ]
     },
     "execution_count": 6,
     "metadata": {},
     "output_type": "execute_result"
    }
   ],
   "source": [
    "# season_years = soup.find_all('i')\n",
    "season_years[-1], type(season_years[1])"
   ]
  },
  {
   "cell_type": "code",
   "execution_count": 5,
   "metadata": {
    "collapsed": false,
    "deletable": true,
    "editable": true
   },
   "outputs": [
    {
     "data": {
      "text/plain": [
       "113"
      ]
     },
     "execution_count": 5,
     "metadata": {},
     "output_type": "execute_result"
    }
   ],
   "source": [
    "season_files = soup.find_all('a', href = re.compile('.csv'))\n",
    "len(season_files)"
   ]
  },
  {
   "cell_type": "code",
   "execution_count": 8,
   "metadata": {
    "collapsed": false,
    "deletable": true,
    "editable": true
   },
   "outputs": [
    {
     "data": {
      "text/plain": [
       "(<a href=\"mmz4281/9394/E0.csv\">Premier League</a>, bs4.element.Tag)"
      ]
     },
     "execution_count": 8,
     "metadata": {},
     "output_type": "execute_result"
    }
   ],
   "source": [
    "season_files[-4], type(season_files[0])"
   ]
  },
  {
   "cell_type": "code",
   "execution_count": 10,
   "metadata": {
    "collapsed": false,
    "deletable": true,
    "editable": true
   },
   "outputs": [
    {
     "data": {
      "text/plain": [
       "(str, '<a href=\"mmz4281/1718/E1.csv\">Championship</a>', 113)"
      ]
     },
     "execution_count": 10,
     "metadata": {},
     "output_type": "execute_result"
    }
   ],
   "source": [
    "paragraphs = []\n",
    "for x in season_files:\n",
    "    paragraphs.append(str(x))\n",
    "type(paragraphs[1]), paragraphs[1], len(paragraphs)"
   ]
  },
  {
   "cell_type": "code",
   "execution_count": 11,
   "metadata": {
    "collapsed": false,
    "deletable": true,
    "editable": true
   },
   "outputs": [
    {
     "data": {
      "text/plain": [
       "'/i>'"
      ]
     },
     "execution_count": 11,
     "metadata": {},
     "output_type": "execute_result"
    }
   ],
   "source": [
    "first = paragraphs[1]\n",
    "first.split('>Seas')[1].split('<')[1]\n",
    "# [i.split('>Seas')[1].split('<')[0] for i in paragraphs]\n",
    "# re.sub(r'<a href=\"mmz4281/','',first)\n",
    "# print(paragraphs[:12])"
   ]
  },
  {
   "cell_type": "markdown",
   "metadata": {
    "deletable": true,
    "editable": true
   },
   "source": [
    "1. Spain and England differ in terms of naming conventions, england is zero indexed and spain is not, gonna have to name em as they come in\n",
    "2. Don't forget a lil error handling"
   ]
  },
  {
   "cell_type": "markdown",
   "metadata": {
    "deletable": true,
    "editable": true
   },
   "source": [
    "# HOLD FOR NOW\n",
    "## also, remember to make sure the write to csv overwrites old ones correctly, now that we're versioning"
   ]
  },
  {
   "cell_type": "code",
   "execution_count": 11,
   "metadata": {
    "collapsed": false,
    "deletable": true,
    "editable": true
   },
   "outputs": [],
   "source": [
    "# browser = webdriver.Firefox(executable_path = '/usr/local/bin/geckodriver')\n",
    "# browser.get('http://www.football-data.co.uk/spainm.php')\n",
    "# elem = browser.find_element_by_css_selector('body > table:nth-child(10) > tbody:nth-child(1) > tr:nth-child(2) > td:nth-child(3) > a:nth-child(15)')\n",
    "# elem.click()"
   ]
  },
  {
   "cell_type": "markdown",
   "metadata": {
    "deletable": true,
    "editable": true
   },
   "source": [
    "10/11: `body > table:nth-child(10) > tbody:nth-child(1) > tr:nth-child(2) > td:nth-child(3) > a:nth-child(96)`\n",
    "\n",
    "11/12: `body > table:nth-child(10) > tbody:nth-child(1) > tr:nth-child(2) > td:nth-child(3) > a:nth-child(81)`\n",
    "\n",
    "12/13: `body > table:nth-child(10) > tbody:nth-child(1) > tr:nth-child(2) > td:nth-child(3) > a:nth-child(70)`\n",
    "\n",
    "Doesn't look straight forward, might need another way in"
   ]
  },
  {
   "cell_type": "code",
   "execution_count": 14,
   "metadata": {
    "collapsed": true,
    "deletable": true,
    "editable": true
   },
   "outputs": [],
   "source": [
    "# browser = webdriver.Firefox(executable_path = '/usr/local/bin/geckodriver')\n",
    "# browser.get('http://www.football-data.co.uk/spainm.php')\n",
    "# elem = browser.find_element_by_css_selector('table:nth-child(10) > tbody:nth-child(1) > tr:nth-child(2) > td:nth-child(3) > a:nth-child(96)')\n",
    "# elem.click()\n",
    "# elem = browser.find_element_by_css_selector('body > table:nth-child(10) > tbody:nth-child(1) > tr:nth-child(2) > td:nth-child(3) > a:nth-child(81)')\n",
    "# elem.click()\n",
    "# elem = browser.find_element_by_css_selector('table:nth-child(10) > tbody:nth-child(1) > tr:nth-child(2) > td:nth-child(3) > a:nth-child(70)')\n",
    "# elem.click()"
   ]
  },
  {
   "cell_type": "code",
   "execution_count": 2,
   "metadata": {
    "collapsed": true,
    "deletable": true,
    "editable": true
   },
   "outputs": [],
   "source": [
    "fp = webdriver.FirefoxProfile()\n",
    "fp.set_preference('browser.helperApps.neverAsk.saveToDisk', \"text/csv, text/comma-separated-values\")\n",
    "browser = webdriver.Firefox(executable_path = '/usr/local/bin/geckodriver', firefox_profile=fp)\n",
    "browser.get('http://www.football-data.co.uk/spainm.php')\n",
    "# elem = browser.find_element_by_css_selector('body > table:nth-child(10) > tbody:nth-child(1) > tr:nth-child(2) > td:nth-child(3) > a:nth-child(15)')\n",
    "# elem.click()\n",
    "# elem = browser.find_element_by_css_selector('body > table:nth-child(10) > tbody:nth-child(1) > tr:nth-child(2) > td:nth-child(3) > a:nth-child(81)')\n",
    "# elem.click()\n",
    "# elem = browser.find_element_by_css_selector('table:nth-child(10) > tbody:nth-child(1) > tr:nth-child(2) > td:nth-child(3) > a:nth-child(70)')\n",
    "# elem.click()"
   ]
  },
  {
   "cell_type": "markdown",
   "metadata": {
    "deletable": true,
    "editable": true
   },
   "source": [
    "### Hard to sort out formula in css formula, maybe check out xpath cuz it sounds cool"
   ]
  },
  {
   "cell_type": "code",
   "execution_count": 4,
   "metadata": {
    "collapsed": false,
    "deletable": true,
    "editable": true
   },
   "outputs": [
    {
     "data": {
      "text/plain": [
       "22"
      ]
     },
     "execution_count": 4,
     "metadata": {},
     "output_type": "execute_result"
    }
   ],
   "source": [
    "# elem = browser.find_element_by_xpath('/html/body/table[5]/tbody/tr[2]/td[3]/a[26]')\n",
    "# elem.click()\n",
    "# elem = browser.find_element_by_xpath('/html/body/table[5]/tbody/tr[2]/td[3]/a[24]')\n",
    "# elem.click()\n",
    "# elem = browser.find_element_by_xpath('/html/body/table[5]/tbody/tr[2]/td[3]/a[22]')\n",
    "# elem.click()\n",
    "# /html/body/table[5]/tbody/tr[2]/td[3]/a[2] # spain primera 17/18\n",
    "# /html/body/table[5]/tbody/tr[2]/td[3]/a[3] # spain segunda 17/18\n",
    "# /html/body/table[5]/tbody/tr[2]/td[3]/a[48]\n",
    "\n",
    "# /html/body/table[5]/tbody/tr[2]/td[3]/a[2] # england prem 17/18\n",
    "# /html/body/table[5]/tbody/tr[2]/td[1]/table[8]/tbody/tr[6]/td/div/a/b\n",
    "# browser.find_elements_by_xpath(\"//*[starts-with(html\\/body\\/table\\[5\\]\\/tbody\\/tr\\[2]\\/td\\[3\\]\\/a\\[\\d{1,}\\])\")\n",
    "# /html/body/table[5]/tbody/tr[2]/td[3]/a[49]\n",
    "elems = browser.find_elements_by_link_text('La Liga Segunda Division')\n",
    "len(elems)"
   ]
  },
  {
   "cell_type": "code",
   "execution_count": 5,
   "metadata": {
    "collapsed": false,
    "deletable": true,
    "editable": true
   },
   "outputs": [
    {
     "data": {
      "text/plain": [
       "<selenium.webdriver.firefox.webelement.FirefoxWebElement (session=\"7824cf2f-98df-8e46-9801-2dc881548301\", element=\"c9566f11-ad66-8645-a7c7-ee0f3d6c5343\")>"
      ]
     },
     "execution_count": 5,
     "metadata": {},
     "output_type": "execute_result"
    }
   ],
   "source": [
    "# /html/body/table[5]/tbody/tr[2]/td[3]/i[1]\n",
    "# /html/body/table[5]/tbody/tr[2]/td[3]/a[2]\n",
    "# /html/body/table[5]/tbody/tr[2]/td[3]/i[1]\n",
    "elems = browser.find_elements_by_tag_name('i')\n",
    "elems[1]"
   ]
  }
 ],
 "metadata": {
  "kernelspec": {
   "display_name": "Python 3",
   "language": "python",
   "name": "python3"
  },
  "language_info": {
   "codemirror_mode": {
    "name": "ipython",
    "version": 3
   },
   "file_extension": ".py",
   "mimetype": "text/x-python",
   "name": "python",
   "nbconvert_exporter": "python",
   "pygments_lexer": "ipython3",
   "version": "3.6.4"
  }
 },
 "nbformat": 4,
 "nbformat_minor": 2
}
