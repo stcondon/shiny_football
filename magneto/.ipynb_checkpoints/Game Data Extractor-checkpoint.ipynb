{
 "cells": [
  {
   "cell_type": "markdown",
   "metadata": {
    "deletable": true,
    "editable": true
   },
   "source": [
    "# Now we pull down that sweet sweet game data"
   ]
  },
  {
   "cell_type": "code",
   "execution_count": 2,
   "metadata": {
    "collapsed": true,
    "deletable": true,
    "editable": true
   },
   "outputs": [],
   "source": [
    "from selenium import webdriver\n",
    "import requests\n",
    "from bs4 import BeautifulSoup\n",
    "import re\n",
    "import pandas as pd\n",
    "# import numpy as np"
   ]
  },
  {
   "cell_type": "markdown",
   "metadata": {
    "deletable": true,
    "editable": true
   },
   "source": [
    "## sopa bonita to count and properly aim xpaths\n",
    "### should I make a pandas data frame a input?\n",
    "look at old pandas stuff"
   ]
  },
  {
   "cell_type": "code",
   "execution_count": 3,
   "metadata": {
    "collapsed": true,
    "deletable": true,
    "editable": true
   },
   "outputs": [],
   "source": [
    "## Inputs\n",
    "# country = 'spain'\n",
    "country = 'england'"
   ]
  },
  {
   "cell_type": "code",
   "execution_count": 6,
   "metadata": {
    "collapsed": false,
    "deletable": true,
    "editable": true
   },
   "outputs": [],
   "source": [
    "## testing ground\n",
    "res = requests.get('http://www.football-data.co.uk/' + country + 'm.php')# res is thing in latin\n",
    "soup = BeautifulSoup(res.content, \"lxml\")\n",
    "temp = soup.find_all('i')\n",
    "years = []\n",
    "for x in temp:\n",
    "    years.append(str(x))\n",
    "years = years[1:]\n",
    "years = [i.split('>Season ')[1].split('<')[0].replace('/','_') for i in years]\n",
    "temp = soup.find_all('a', href = re.compile('.csv'))\n",
    "comps = []\n",
    "for x in temp:\n",
    "    comps.append(str(x))\n",
    "comps = [i.split('>')[1].split('<')[0] for i in comps]\n",
    "## Now convert them to numbers, i like a lambda for this\n",
    "temp = [i for i, x in enumerate(comps) if x == comps[0]]\n",
    "for comp in range(0,len(comps)):\n",
    "    if comp in temp:\n",
    "        comps[comp] = '1'\n",
    "        next_league = 2\n",
    "    else:\n",
    "        comps[comp] = str(next_league)\n",
    "        next_league += 1\n",
    "\n",
    "\n",
    "## Now rbind them and then we get to the browser part\n",
    "\n",
    "\n",
    "# fp = webdriver.FirefoxProfile()\n",
    "# fp.set_preference('browser.helperApps.neverAsk.saveToDisk', \"text/csv, text/comma-separated-values\")\n",
    "# browser = webdriver.Firefox(executable_path = '/usr/local/bin/geckodriver', firefox_profile=fp)\n",
    "# browser.get('http://www.football-data.co.uk/' + country + 'm.php')"
   ]
  },
  {
   "cell_type": "code",
   "execution_count": 31,
   "metadata": {
    "collapsed": false
   },
   "outputs": [
    {
     "data": {
      "text/plain": [
       "['1',\n",
       " '2',\n",
       " '3',\n",
       " '4',\n",
       " '5',\n",
       " '1',\n",
       " '2',\n",
       " '3',\n",
       " '4',\n",
       " '5',\n",
       " '1',\n",
       " '2',\n",
       " '3',\n",
       " '4',\n",
       " '5',\n",
       " '1',\n",
       " '2',\n",
       " '3',\n",
       " '4',\n",
       " '5',\n",
       " '1',\n",
       " '2',\n",
       " '3',\n",
       " '4',\n",
       " '5',\n",
       " '1',\n",
       " '2',\n",
       " '3',\n",
       " '4',\n",
       " '5',\n",
       " '1',\n",
       " '2',\n",
       " '3',\n",
       " '4',\n",
       " '5',\n",
       " '1',\n",
       " '2',\n",
       " '3',\n",
       " '4',\n",
       " '5',\n",
       " '1',\n",
       " '2',\n",
       " '3',\n",
       " '4',\n",
       " '5',\n",
       " '1',\n",
       " '2',\n",
       " '3',\n",
       " '4',\n",
       " '5',\n",
       " '1',\n",
       " '2',\n",
       " '3',\n",
       " '4',\n",
       " '5',\n",
       " '1',\n",
       " '2',\n",
       " '3',\n",
       " '4',\n",
       " '5',\n",
       " '1',\n",
       " '2',\n",
       " '3',\n",
       " '4',\n",
       " '5',\n",
       " '1',\n",
       " '2',\n",
       " '3',\n",
       " '4',\n",
       " '1',\n",
       " '2',\n",
       " '3',\n",
       " '4',\n",
       " '1',\n",
       " '2',\n",
       " '3',\n",
       " '4',\n",
       " '1',\n",
       " '2',\n",
       " '3',\n",
       " '4',\n",
       " '1',\n",
       " '2',\n",
       " '3',\n",
       " '4',\n",
       " '1',\n",
       " '2',\n",
       " '3',\n",
       " '4',\n",
       " '1',\n",
       " '2',\n",
       " '3',\n",
       " '4',\n",
       " '1',\n",
       " '2',\n",
       " '3',\n",
       " '4',\n",
       " '1',\n",
       " '2',\n",
       " '3',\n",
       " '4',\n",
       " '1',\n",
       " '2',\n",
       " '3',\n",
       " '4',\n",
       " '1',\n",
       " '2',\n",
       " '3',\n",
       " '4',\n",
       " '1',\n",
       " '2',\n",
       " '3',\n",
       " '4']"
      ]
     },
     "execution_count": 31,
     "metadata": {},
     "output_type": "execute_result"
    }
   ],
   "source": [
    "comps = []\n",
    "for x in temp:\n",
    "    comps.append(str(x))\n",
    "comps = [i.split('>')[1].split('<')[0] for i in comps]\n",
    "temp = [i for i, x in enumerate(comps) if x == comps[0]]\n",
    "for comp in range(0,len(comps)):\n",
    "    if comp in temp:\n",
    "        comps[comp] = '1'\n",
    "        next_league = 2\n",
    "    else:\n",
    "        comps[comp] = str(next_league)\n",
    "        next_league += 1\n",
    "comps"
   ]
  },
  {
   "cell_type": "code",
   "execution_count": 26,
   "metadata": {
    "collapsed": false,
    "deletable": true,
    "editable": true
   },
   "outputs": [
    {
     "data": {
      "text/plain": [
       "'who does number 2 work for?'"
      ]
     },
     "execution_count": 26,
     "metadata": {},
     "output_type": "execute_result"
    }
   ],
   "source": [
    "next_league = 2\n",
    "'who does number ' + str(next_league) + ' work for?'"
   ]
  },
  {
   "cell_type": "code",
   "execution_count": 14,
   "metadata": {
    "collapsed": false,
    "deletable": true,
    "editable": true
   },
   "outputs": [
    {
     "data": {
      "text/plain": [
       "'Championship'"
      ]
     },
     "execution_count": 14,
     "metadata": {},
     "output_type": "execute_result"
    }
   ],
   "source": [
    "comp = [i.split('>')[1].split('<')[0] for i in comp]\n",
    "comp[1]"
   ]
  },
  {
   "cell_type": "code",
   "execution_count": 18,
   "metadata": {
    "collapsed": false,
    "deletable": true,
    "editable": true
   },
   "outputs": [
    {
     "data": {
      "text/plain": [
       "25"
      ]
     },
     "execution_count": 18,
     "metadata": {},
     "output_type": "execute_result"
    }
   ],
   "source": [
    "len(years)"
   ]
  },
  {
   "cell_type": "code",
   "execution_count": 9,
   "metadata": {
    "collapsed": false,
    "deletable": true,
    "editable": true
   },
   "outputs": [
    {
     "data": {
      "text/plain": [
       "(113, <a href=\"mmz4281/1718/E1.csv\">Championship</a>)"
      ]
     },
     "execution_count": 9,
     "metadata": {},
     "output_type": "execute_result"
    }
   ],
   "source": [
    "season_files = soup.find_all('a', href = re.compile('.csv'))\n",
    "len(season_files), season_files[1]"
   ]
  },
  {
   "cell_type": "code",
   "execution_count": 8,
   "metadata": {
    "collapsed": false,
    "deletable": true,
    "editable": true
   },
   "outputs": [
    {
     "data": {
      "text/plain": [
       "(<a href=\"mmz4281/9394/E0.csv\">Premier League</a>, bs4.element.Tag)"
      ]
     },
     "execution_count": 8,
     "metadata": {},
     "output_type": "execute_result"
    }
   ],
   "source": [
    "season_files[-4], type(season_files[0])"
   ]
  },
  {
   "cell_type": "code",
   "execution_count": 11,
   "metadata": {
    "collapsed": false,
    "deletable": true,
    "editable": true
   },
   "outputs": [
    {
     "data": {
      "text/plain": [
       "'/i>'"
      ]
     },
     "execution_count": 11,
     "metadata": {},
     "output_type": "execute_result"
    }
   ],
   "source": [
    "first = paragraphs[1]\n",
    "first.split('>Seas')[1].split('<')[1]\n",
    "# [i.split('>Seas')[1].split('<')[0] for i in paragraphs]\n",
    "# re.sub(r'<a href=\"mmz4281/','',first)\n",
    "# print(paragraphs[:12])"
   ]
  },
  {
   "cell_type": "markdown",
   "metadata": {
    "deletable": true,
    "editable": true
   },
   "source": [
    "1. Spain and England differ in terms of naming conventions, england is zero indexed and spain is not, gonna have to name em as they come in\n",
    "2. Don't forget a lil error handling"
   ]
  },
  {
   "cell_type": "code",
   "execution_count": 2,
   "metadata": {
    "collapsed": false,
    "deletable": true,
    "editable": true
   },
   "outputs": [],
   "source": [
    "# from sklearn.datasets import load_iris\n",
    "\n",
    "# x = load_iris()\n",
    "# x = pd.DataFrame(x.data, columns=x.feature_names)\n",
    "\n",
    "# def remove_units(df):\n",
    "#     df.columns = pd.Index(map(lambda x: x.replace(\" (cm)\", \"\"), df.columns))\n",
    "#     return df\n",
    "\n",
    "# def length_times_width(df):\n",
    "#     df['sepal length*width'] = df['sepal length'] * df['sepal width']\n",
    "#     df['petal length*width'] = df['petal length'] * df['petal width']\n",
    "\n",
    "# x.pipe(remove_units).pipe(length_times_width)\n",
    "# x"
   ]
  },
  {
   "cell_type": "markdown",
   "metadata": {
    "deletable": true,
    "editable": true
   },
   "source": [
    "# HOLD FOR NOW\n",
    "## also, remember to make sure the write to csv overwrites old ones correctly, now that we're versioning"
   ]
  },
  {
   "cell_type": "code",
   "execution_count": 11,
   "metadata": {
    "collapsed": false,
    "deletable": true,
    "editable": true
   },
   "outputs": [],
   "source": [
    "# browser = webdriver.Firefox(executable_path = '/usr/local/bin/geckodriver')\n",
    "# browser.get('http://www.football-data.co.uk/spainm.php')\n",
    "# elem = browser.find_element_by_css_selector('body > table:nth-child(10) > tbody:nth-child(1) > tr:nth-child(2) > td:nth-child(3) > a:nth-child(15)')\n",
    "# elem.click()"
   ]
  },
  {
   "cell_type": "markdown",
   "metadata": {
    "deletable": true,
    "editable": true
   },
   "source": [
    "10/11: `body > table:nth-child(10) > tbody:nth-child(1) > tr:nth-child(2) > td:nth-child(3) > a:nth-child(96)`\n",
    "\n",
    "11/12: `body > table:nth-child(10) > tbody:nth-child(1) > tr:nth-child(2) > td:nth-child(3) > a:nth-child(81)`\n",
    "\n",
    "12/13: `body > table:nth-child(10) > tbody:nth-child(1) > tr:nth-child(2) > td:nth-child(3) > a:nth-child(70)`\n",
    "\n",
    "Doesn't look straight forward, might need another way in"
   ]
  },
  {
   "cell_type": "code",
   "execution_count": 14,
   "metadata": {
    "collapsed": true,
    "deletable": true,
    "editable": true
   },
   "outputs": [],
   "source": [
    "# browser = webdriver.Firefox(executable_path = '/usr/local/bin/geckodriver')\n",
    "# browser.get('http://www.football-data.co.uk/spainm.php')\n",
    "# elem = browser.find_element_by_css_selector('table:nth-child(10) > tbody:nth-child(1) > tr:nth-child(2) > td:nth-child(3) > a:nth-child(96)')\n",
    "# elem.click()\n",
    "# elem = browser.find_element_by_css_selector('body > table:nth-child(10) > tbody:nth-child(1) > tr:nth-child(2) > td:nth-child(3) > a:nth-child(81)')\n",
    "# elem.click()\n",
    "# elem = browser.find_element_by_css_selector('table:nth-child(10) > tbody:nth-child(1) > tr:nth-child(2) > td:nth-child(3) > a:nth-child(70)')\n",
    "# elem.click()"
   ]
  },
  {
   "cell_type": "code",
   "execution_count": 2,
   "metadata": {
    "collapsed": true,
    "deletable": true,
    "editable": true
   },
   "outputs": [],
   "source": [
    "fp = webdriver.FirefoxProfile()\n",
    "fp.set_preference('browser.helperApps.neverAsk.saveToDisk', \"text/csv, text/comma-separated-values\")\n",
    "browser = webdriver.Firefox(executable_path = '/usr/local/bin/geckodriver', firefox_profile=fp)\n",
    "browser.get('http://www.football-data.co.uk/spainm.php')\n",
    "# elem = browser.find_element_by_css_selector('body > table:nth-child(10) > tbody:nth-child(1) > tr:nth-child(2) > td:nth-child(3) > a:nth-child(15)')\n",
    "# elem.click()\n",
    "# elem = browser.find_element_by_css_selector('body > table:nth-child(10) > tbody:nth-child(1) > tr:nth-child(2) > td:nth-child(3) > a:nth-child(81)')\n",
    "# elem.click()\n",
    "# elem = browser.find_element_by_css_selector('table:nth-child(10) > tbody:nth-child(1) > tr:nth-child(2) > td:nth-child(3) > a:nth-child(70)')\n",
    "# elem.click()"
   ]
  },
  {
   "cell_type": "markdown",
   "metadata": {
    "deletable": true,
    "editable": true
   },
   "source": [
    "### Hard to sort out formula in css formula, maybe check out xpath cuz it sounds cool"
   ]
  },
  {
   "cell_type": "code",
   "execution_count": 3,
   "metadata": {
    "collapsed": false,
    "deletable": true,
    "editable": true
   },
   "outputs": [
    {
     "data": {
      "text/plain": [
       "22"
      ]
     },
     "execution_count": 3,
     "metadata": {},
     "output_type": "execute_result"
    }
   ],
   "source": [
    "# elem = browser.find_element_by_xpath('/html/body/table[5]/tbody/tr[2]/td[3]/a[26]')\n",
    "# elem.click()\n",
    "# elem = browser.find_element_by_xpath('/html/body/table[5]/tbody/tr[2]/td[3]/a[24]')\n",
    "# elem.click()\n",
    "# elem = browser.find_element_by_xpath('/html/body/table[5]/tbody/tr[2]/td[3]/a[22]')\n",
    "# elem.click()\n",
    "# /html/body/table[5]/tbody/tr[2]/td[3]/a[2] # spain primera 17/18\n",
    "# /html/body/table[5]/tbody/tr[2]/td[3]/a[3] # spain segunda 17/18\n",
    "# /html/body/table[5]/tbody/tr[2]/td[3]/a[48]\n",
    "\n",
    "# /html/body/table[5]/tbody/tr[2]/td[3]/a[2] # england prem 17/18\n",
    "# /html/body/table[5]/tbody/tr[2]/td[1]/table[8]/tbody/tr[6]/td/div/a/b\n",
    "# browser.find_elements_by_xpath(\"//*[starts-with(html\\/body\\/table\\[5\\]\\/tbody\\/tr\\[2]\\/td\\[3\\]\\/a\\[\\d{1,}\\])\")\n",
    "# /html/body/table[5]/tbody/tr[2]/td[3]/a[49]\n",
    "elems = browser.find_elements_by_link_text('La Liga Segunda Division')\n",
    "len(elems)"
   ]
  },
  {
   "cell_type": "code",
   "execution_count": 5,
   "metadata": {
    "collapsed": false,
    "deletable": true,
    "editable": true
   },
   "outputs": [
    {
     "data": {
      "text/plain": [
       "<selenium.webdriver.firefox.webelement.FirefoxWebElement (session=\"7824cf2f-98df-8e46-9801-2dc881548301\", element=\"c9566f11-ad66-8645-a7c7-ee0f3d6c5343\")>"
      ]
     },
     "execution_count": 5,
     "metadata": {},
     "output_type": "execute_result"
    }
   ],
   "source": [
    "# /html/body/table[5]/tbody/tr[2]/td[3]/i[1]\n",
    "# /html/body/table[5]/tbody/tr[2]/td[3]/a[2]\n",
    "# /html/body/table[5]/tbody/tr[2]/td[3]/i[1]\n",
    "elems = browser.find_elements_by_tag_name('i')\n",
    "elems[1]"
   ]
  },
  {
   "cell_type": "code",
   "execution_count": 4,
   "metadata": {
    "collapsed": false,
    "deletable": true,
    "editable": true
   },
   "outputs": [
    {
     "data": {
      "text/plain": [
       "list"
      ]
     },
     "execution_count": 4,
     "metadata": {},
     "output_type": "execute_result"
    }
   ],
   "source": [
    "type(elems)"
   ]
  },
  {
   "cell_type": "code",
   "execution_count": 5,
   "metadata": {
    "collapsed": true,
    "deletable": true,
    "editable": true
   },
   "outputs": [],
   "source": [
    "df = pd.DataFrame(elems)"
   ]
  },
  {
   "cell_type": "code",
   "execution_count": 17,
   "metadata": {
    "collapsed": false,
    "deletable": true,
    "editable": true
   },
   "outputs": [
    {
     "data": {
      "text/plain": [
       "selenium.webdriver.firefox.webelement.FirefoxWebElement"
      ]
     },
     "execution_count": 17,
     "metadata": {},
     "output_type": "execute_result"
    }
   ],
   "source": [
    "type(df[0][0])"
   ]
  },
  {
   "cell_type": "code",
   "execution_count": null,
   "metadata": {
    "collapsed": true,
    "deletable": true,
    "editable": true
   },
   "outputs": [],
   "source": []
  }
 ],
 "metadata": {
  "kernelspec": {
   "display_name": "Python 3",
   "language": "python",
   "name": "python3"
  },
  "language_info": {
   "codemirror_mode": {
    "name": "ipython",
    "version": 3
   },
   "file_extension": ".py",
   "mimetype": "text/x-python",
   "name": "python",
   "nbconvert_exporter": "python",
   "pygments_lexer": "ipython3",
   "version": "3.6.4"
  }
 },
 "nbformat": 4,
 "nbformat_minor": 2
}
