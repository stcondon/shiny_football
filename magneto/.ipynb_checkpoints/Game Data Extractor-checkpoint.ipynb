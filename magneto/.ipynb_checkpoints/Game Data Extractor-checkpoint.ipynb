{
 "cells": [
  {
   "cell_type": "markdown",
   "metadata": {
    "deletable": true,
    "editable": true
   },
   "source": [
    "# Now we pull down that sweet sweet game data"
   ]
  },
  {
   "cell_type": "code",
   "execution_count": 1,
   "metadata": {
    "collapsed": true,
    "deletable": true,
    "editable": true
   },
   "outputs": [],
   "source": [
    "from selenium import webdriver\n",
    "import requests\n",
    "from bs4 import BeautifulSoup\n",
    "import re\n",
    "import os\n",
    "import time"
   ]
  },
  {
   "cell_type": "markdown",
   "metadata": {
    "deletable": true,
    "editable": true
   },
   "source": [
    "### plan: sopa bonita to count and properly aim xpaths"
   ]
  },
  {
   "cell_type": "code",
   "execution_count": 2,
   "metadata": {
    "collapsed": false,
    "deletable": true,
    "editable": true
   },
   "outputs": [],
   "source": [
    "def magneto(country = 'england'):\n",
    "    url = 'http://www.football-data.co.uk/' + country + 'm.php'\n",
    "    res = requests.get(url)# res is thing in latin\n",
    "    soup = BeautifulSoup(res.content, \"lxml\")\n",
    "    temp = soup.find_all('i')\n",
    "    years = []\n",
    "    for x in temp:\n",
    "        years.append(str(x))\n",
    "    years = years[1:]\n",
    "    years = [i.split('>Season ')[1].split('<')[0].replace('/','_') for i in years]\n",
    "    temp = soup.find_all('a', href = re.compile('.csv'))\n",
    "    comps = []\n",
    "    for x in temp:\n",
    "        comps.append(str(x))\n",
    "    comps = [i.split('>')[1].split('<')[0] for i in comps]\n",
    "    temp = [i for i, x in enumerate(comps) if x == comps[0]]\n",
    "\n",
    "    # Now we've found stuff, time to open a browser (not headless yet :P) and start clicking!\n",
    "    fp = webdriver.FirefoxProfile()\n",
    "    # set preferences so it doesn't ask me if i'm ok downloading a csv file\n",
    "    fp.set_preference('browser.helperApps.neverAsk.saveToDisk', \"text/csv, text/comma-separated-values\")\n",
    "    browser = webdriver.Firefox(executable_path = '/usr/local/bin/geckodriver', firefox_profile=fp)\n",
    "    browser.get(url)\n",
    "\n",
    "    # Now we've found everything get ready to download and move them!\n",
    "    year = -1\n",
    "    a_tag = 2\n",
    "    for comp in range(0,len(comps)):\n",
    "        if comp in temp:\n",
    "            elem = browser.find_element_by_xpath('/html/body/table[5]/tbody/tr[2]/td[3]/a[' + str(a_tag) + ']')\n",
    "            elem.click()\n",
    "            time.sleep(.5)\n",
    "            a_tag += 1\n",
    "            year += 1\n",
    "            source_file = '/Users/qu1ck5047/Downloads/'\n",
    "            source_file += [f for f in os.listdir(source_file) if re.search(r'^[A-Z]{1,}([0-9]|[A-Z]).csv$', f)][0]\n",
    "            destination_file = '../data/' + country + '/' + country.capitalize() + '_1_' + years[year] + '.csv'\n",
    "            os.rename(source_file, destination_file)\n",
    "            next_league = 2\n",
    "        else:\n",
    "            elem = browser.find_element_by_xpath('/html/body/table[5]/tbody/tr[2]/td[3]/a[' + str(a_tag) + ']')\n",
    "            elem.click()\n",
    "            time.sleep(.5)\n",
    "            a_tag += 1\n",
    "            source_file = '/Users/qu1ck5047/Downloads/'\n",
    "            source_file += [f for f in os.listdir(source_file) if re.search(r'^[A-Z]([0-9]|[A-Z]).csv$', f)][0]\n",
    "            destination_file = ('../data/' + country + '/' + country.capitalize() + '_'+ str(next_league) +'_' + \n",
    "                                years[year] + '.csv')\n",
    "            os.rename(source_file, destination_file)\n",
    "            next_league += 1"
   ]
  },
  {
   "cell_type": "code",
   "execution_count": 3,
   "metadata": {
    "collapsed": false
   },
   "outputs": [
    {
     "ename": "IndexError",
     "evalue": "list index out of range",
     "output_type": "error",
     "traceback": [
      "\u001b[0;31m---------------------------------------------------------------------------\u001b[0m",
      "\u001b[0;31mIndexError\u001b[0m                                Traceback (most recent call last)",
      "\u001b[0;32m<ipython-input-3-af2b4222a6cd>\u001b[0m in \u001b[0;36m<module>\u001b[0;34m()\u001b[0m\n\u001b[1;32m      1\u001b[0m \u001b[0mmagneto\u001b[0m\u001b[0;34m(\u001b[0m\u001b[0;34m)\u001b[0m\u001b[0;34m\u001b[0m\u001b[0m\n\u001b[0;32m----> 2\u001b[0;31m \u001b[0mmagneto\u001b[0m\u001b[0;34m(\u001b[0m\u001b[0;34m'spain'\u001b[0m\u001b[0;34m)\u001b[0m\u001b[0;34m\u001b[0m\u001b[0m\n\u001b[0m",
      "\u001b[0;32m<ipython-input-2-9bba6279beae>\u001b[0m in \u001b[0;36mmagneto\u001b[0;34m(country)\u001b[0m\n\u001b[1;32m     34\u001b[0m             \u001b[0myear\u001b[0m \u001b[0;34m+=\u001b[0m \u001b[0;36m1\u001b[0m\u001b[0;34m\u001b[0m\u001b[0m\n\u001b[1;32m     35\u001b[0m             \u001b[0msource_file\u001b[0m \u001b[0;34m=\u001b[0m \u001b[0;34m'/Users/qu1ck5047/Downloads/'\u001b[0m\u001b[0;34m\u001b[0m\u001b[0m\n\u001b[0;32m---> 36\u001b[0;31m             \u001b[0msource_file\u001b[0m \u001b[0;34m+=\u001b[0m \u001b[0;34m[\u001b[0m\u001b[0mf\u001b[0m \u001b[0;32mfor\u001b[0m \u001b[0mf\u001b[0m \u001b[0;32min\u001b[0m \u001b[0mos\u001b[0m\u001b[0;34m.\u001b[0m\u001b[0mlistdir\u001b[0m\u001b[0;34m(\u001b[0m\u001b[0msource_file\u001b[0m\u001b[0;34m)\u001b[0m \u001b[0;32mif\u001b[0m \u001b[0mre\u001b[0m\u001b[0;34m.\u001b[0m\u001b[0msearch\u001b[0m\u001b[0;34m(\u001b[0m\u001b[0;34mr'^[A-Z]([0-9]|[A-Z]).csv$'\u001b[0m\u001b[0;34m,\u001b[0m \u001b[0mf\u001b[0m\u001b[0;34m)\u001b[0m\u001b[0;34m]\u001b[0m\u001b[0;34m[\u001b[0m\u001b[0;36m0\u001b[0m\u001b[0;34m]\u001b[0m\u001b[0;34m\u001b[0m\u001b[0m\n\u001b[0m\u001b[1;32m     37\u001b[0m             \u001b[0mdestination_file\u001b[0m \u001b[0;34m=\u001b[0m \u001b[0;34m'../data/'\u001b[0m \u001b[0;34m+\u001b[0m \u001b[0mcountry\u001b[0m \u001b[0;34m+\u001b[0m \u001b[0;34m'/'\u001b[0m \u001b[0;34m+\u001b[0m \u001b[0mcountry\u001b[0m\u001b[0;34m.\u001b[0m\u001b[0mcapitalize\u001b[0m\u001b[0;34m(\u001b[0m\u001b[0;34m)\u001b[0m \u001b[0;34m+\u001b[0m \u001b[0;34m'_1_'\u001b[0m \u001b[0;34m+\u001b[0m \u001b[0myears\u001b[0m\u001b[0;34m[\u001b[0m\u001b[0myear\u001b[0m\u001b[0;34m]\u001b[0m \u001b[0;34m+\u001b[0m \u001b[0;34m'.csv'\u001b[0m\u001b[0;34m\u001b[0m\u001b[0m\n\u001b[1;32m     38\u001b[0m             \u001b[0mos\u001b[0m\u001b[0;34m.\u001b[0m\u001b[0mrename\u001b[0m\u001b[0;34m(\u001b[0m\u001b[0msource_file\u001b[0m\u001b[0;34m,\u001b[0m \u001b[0mdestination_file\u001b[0m\u001b[0;34m)\u001b[0m\u001b[0;34m\u001b[0m\u001b[0m\n",
      "\u001b[0;31mIndexError\u001b[0m: list index out of range"
     ]
    }
   ],
   "source": [
    "# magneto()\n",
    "magneto('spain')"
   ]
  },
  {
   "cell_type": "code",
   "execution_count": 51,
   "metadata": {
    "collapsed": false,
    "deletable": true,
    "editable": true
   },
   "outputs": [],
   "source": [
    "# TOP: /html/body/table[5]/tbody/tr[2]/td[3]/a[2]\n",
    "# PENULTIMATE: /html/body/table[5]/tbody/tr[2]/td[3]/a[113]\n",
    "# ULTIMATE: /html/body/table[5]/tbody/tr[2]/td[3]/a[114]\n",
    "# fp = webdriver.FirefoxProfile()\n",
    "# fp.set_preference('browser.helperApps.neverAsk.saveToDisk', \"text/csv, text/comma-separated-values\")\n",
    "# browser = webdriver.Firefox(executable_path = '/usr/local/bin/geckodriver', firefox_profile=fp)\n",
    "# browser.get('http://www.football-data.co.uk/' + country + 'm.php')\n",
    "a_tag = 2\n",
    "elem = browser.find_element_by_xpath('/html/body/table[5]/tbody/tr[2]/td[3]/a[' + str(a_tag) + ']')\n",
    "elem.click()\n"
   ]
  },
  {
   "cell_type": "code",
   "execution_count": 12,
   "metadata": {
    "collapsed": true
   },
   "outputs": [],
   "source": [
    "import time"
   ]
  },
  {
   "cell_type": "code",
   "execution_count": 11,
   "metadata": {
    "collapsed": false,
    "deletable": true,
    "editable": true
   },
   "outputs": [
    {
     "name": "stdout",
     "output_type": "stream",
     "text": [
      "/Users/qu1ck5047/Downloads/E0.csv\n"
     ]
    }
   ],
   "source": [
    "# import os\n",
    "# import re\n",
    "# import glob\n",
    "\n",
    "# print(re.search(r'E0.csv',str(os.listdir('/Users/qu1ck5047/Downloads/'))))\n",
    "# os.chdir('/Users/qu1ck5047/Downloads/')\n",
    "# glob.glob('[A-Z]([0-9]|[A-Z]).csv')\n",
    "# os.rename(glob.glob('[A-Z][0-9].csv')[0], '/Users/qu1ck5047/code/shiny_football/scratch/test.csv')\n",
    "source_file = '/Users/qu1ck5047/Downloads/'\n",
    "source_file += [f for f in os.listdir(source_file) if re.search(r'^[A-Z]([0-9]|[A-Z]).csv$', f)][0]\n",
    "print(source_file)"
   ]
  },
  {
   "cell_type": "markdown",
   "metadata": {
    "deletable": true,
    "editable": true
   },
   "source": [
    "1. Spain and England differ in terms of naming conventions, england is zero indexed and spain is not, gonna have to name em as they come in\n",
    "2. Don't forget a lil error handling"
   ]
  },
  {
   "cell_type": "markdown",
   "metadata": {
    "deletable": true,
    "editable": true
   },
   "source": [
    "# HOLD FOR NOW\n",
    "## also, remember to make sure the write to csv overwrites old ones correctly, now that we're versioning"
   ]
  },
  {
   "cell_type": "code",
   "execution_count": 43,
   "metadata": {
    "collapsed": true,
    "deletable": true,
    "editable": true
   },
   "outputs": [],
   "source": [
    "# browser = webdriver.Firefox(executable_path = '/usr/local/bin/geckodriver')\n",
    "# browser.get('http://www.football-data.co.uk/spainm.php')\n",
    "# elem = browser.find_element_by_css_selector('table:nth-child(10) > tbody:nth-child(1) > tr:nth-child(2) > td:nth-child(3) > a:nth-child(96)')\n",
    "# elem.click()\n",
    "# elem = browser.find_element_by_css_selector('body > table:nth-child(10) > tbody:nth-child(1) > tr:nth-child(2) > td:nth-child(3) > a:nth-child(81)')\n",
    "# elem.click()\n",
    "# elem = browser.find_element_by_css_selector('table:nth-child(10) > tbody:nth-child(1) > tr:nth-child(2) > td:nth-child(3) > a:nth-child(70)')\n",
    "# elem.click()"
   ]
  },
  {
   "cell_type": "code",
   "execution_count": 2,
   "metadata": {
    "collapsed": true,
    "deletable": true,
    "editable": true
   },
   "outputs": [],
   "source": [
    "fp = webdriver.FirefoxProfile()\n",
    "fp.set_preference('browser.helperApps.neverAsk.saveToDisk', \"text/csv, text/comma-separated-values\")\n",
    "browser = webdriver.Firefox(executable_path = '/usr/local/bin/geckodriver', firefox_profile=fp)\n",
    "browser.get('http://www.football-data.co.uk/spainm.php')\n",
    "# elem = browser.find_element_by_css_selector('body > table:nth-child(10) > tbody:nth-child(1) > tr:nth-child(2) > td:nth-child(3) > a:nth-child(15)')\n",
    "# elem.click()\n",
    "# elem = browser.find_element_by_css_selector('body > table:nth-child(10) > tbody:nth-child(1) > tr:nth-child(2) > td:nth-child(3) > a:nth-child(81)')\n",
    "# elem.click()\n",
    "# elem = browser.find_element_by_css_selector('table:nth-child(10) > tbody:nth-child(1) > tr:nth-child(2) > td:nth-child(3) > a:nth-child(70)')\n",
    "# elem.click()"
   ]
  },
  {
   "cell_type": "markdown",
   "metadata": {
    "deletable": true,
    "editable": true
   },
   "source": [
    "### Hard to sort out formula in css formula, maybe check out xpath cuz it sounds cool"
   ]
  },
  {
   "cell_type": "code",
   "execution_count": 3,
   "metadata": {
    "collapsed": false,
    "deletable": true,
    "editable": true
   },
   "outputs": [
    {
     "data": {
      "text/plain": [
       "22"
      ]
     },
     "execution_count": 3,
     "metadata": {},
     "output_type": "execute_result"
    }
   ],
   "source": [
    "# elem = browser.find_element_by_xpath('/html/body/table[5]/tbody/tr[2]/td[3]/a[26]')\n",
    "# elem.click()\n",
    "# elem = browser.find_element_by_xpath('/html/body/table[5]/tbody/tr[2]/td[3]/a[24]')\n",
    "# elem.click()\n",
    "# elem = browser.find_element_by_xpath('/html/body/table[5]/tbody/tr[2]/td[3]/a[22]')\n",
    "# elem.click()\n",
    "# /html/body/table[5]/tbody/tr[2]/td[3]/a[2] # spain primera 17/18\n",
    "# /html/body/table[5]/tbody/tr[2]/td[3]/a[3] # spain segunda 17/18\n",
    "# /html/body/table[5]/tbody/tr[2]/td[3]/a[48]\n",
    "\n",
    "# /html/body/table[5]/tbody/tr[2]/td[3]/a[2] # england prem 17/18\n",
    "# /html/body/table[5]/tbody/tr[2]/td[1]/table[8]/tbody/tr[6]/td/div/a/b\n",
    "# browser.find_elements_by_xpath(\"//*[starts-with(html\\/body\\/table\\[5\\]\\/tbody\\/tr\\[2]\\/td\\[3\\]\\/a\\[\\d{1,}\\])\")\n",
    "# /html/body/table[5]/tbody/tr[2]/td[3]/a[49]\n",
    "elems = browser.find_elements_by_link_text('La Liga Segunda Division')\n",
    "len(elems)"
   ]
  },
  {
   "cell_type": "code",
   "execution_count": 48,
   "metadata": {
    "collapsed": false,
    "deletable": true,
    "editable": true
   },
   "outputs": [
    {
     "data": {
      "text/plain": [
       "287"
      ]
     },
     "execution_count": 48,
     "metadata": {},
     "output_type": "execute_result"
    }
   ],
   "source": [
    "# /html/body/table[5]/tbody/tr[2]/td[3]/i[1]\n",
    "# /html/body/table[5]/tbody/tr[2]/td[3]/a[2]\n",
    "# /html/body/table[5]/tbody/tr[2]/td[3]/i[1]\n",
    "elems = browser.find_elements_by_tag_name('a')\n",
    "len(elems)"
   ]
  },
  {
   "cell_type": "code",
   "execution_count": 4,
   "metadata": {
    "collapsed": false,
    "deletable": true,
    "editable": true
   },
   "outputs": [
    {
     "data": {
      "text/plain": [
       "list"
      ]
     },
     "execution_count": 4,
     "metadata": {},
     "output_type": "execute_result"
    }
   ],
   "source": [
    "type(elems)"
   ]
  },
  {
   "cell_type": "code",
   "execution_count": 5,
   "metadata": {
    "collapsed": true,
    "deletable": true,
    "editable": true
   },
   "outputs": [],
   "source": [
    "df = pd.DataFrame(elems)"
   ]
  },
  {
   "cell_type": "code",
   "execution_count": 17,
   "metadata": {
    "collapsed": false,
    "deletable": true,
    "editable": true
   },
   "outputs": [
    {
     "data": {
      "text/plain": [
       "selenium.webdriver.firefox.webelement.FirefoxWebElement"
      ]
     },
     "execution_count": 17,
     "metadata": {},
     "output_type": "execute_result"
    }
   ],
   "source": [
    "type(df[0][0])"
   ]
  },
  {
   "cell_type": "code",
   "execution_count": null,
   "metadata": {
    "collapsed": true,
    "deletable": true,
    "editable": true
   },
   "outputs": [],
   "source": []
  }
 ],
 "metadata": {
  "kernelspec": {
   "display_name": "Python 3",
   "language": "python",
   "name": "python3"
  },
  "language_info": {
   "codemirror_mode": {
    "name": "ipython",
    "version": 3
   },
   "file_extension": ".py",
   "mimetype": "text/x-python",
   "name": "python",
   "nbconvert_exporter": "python",
   "pygments_lexer": "ipython3",
   "version": "3.6.4"
  }
 },
 "nbformat": 4,
 "nbformat_minor": 2
}
