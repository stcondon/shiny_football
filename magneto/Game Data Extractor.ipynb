{
 "cells": [
  {
   "cell_type": "markdown",
   "metadata": {
    "deletable": true,
    "editable": true
   },
   "source": [
    "# Now we pull down that sweet sweet game data"
   ]
  },
  {
   "cell_type": "code",
   "execution_count": 7,
   "metadata": {
    "collapsed": true,
    "deletable": true,
    "editable": true
   },
   "outputs": [],
   "source": [
    "from selenium import webdriver"
   ]
  },
  {
   "cell_type": "code",
   "execution_count": 11,
   "metadata": {
    "collapsed": false,
    "deletable": true,
    "editable": true
   },
   "outputs": [],
   "source": [
    "# browser = webdriver.Firefox(executable_path = '/usr/local/bin/geckodriver')\n",
    "# browser.get('http://www.football-data.co.uk/spainm.php')\n",
    "# elem = browser.find_element_by_css_selector('body > table:nth-child(10) > tbody:nth-child(1) > tr:nth-child(2) > td:nth-child(3) > a:nth-child(15)')\n",
    "# elem.click()"
   ]
  },
  {
   "cell_type": "markdown",
   "metadata": {
    "deletable": true,
    "editable": true
   },
   "source": [
    "10/11: `body > table:nth-child(10) > tbody:nth-child(1) > tr:nth-child(2) > td:nth-child(3) > a:nth-child(96)`\n",
    "\n",
    "11/12: `body > table:nth-child(10) > tbody:nth-child(1) > tr:nth-child(2) > td:nth-child(3) > a:nth-child(81)`\n",
    "\n",
    "12/13: `body > table:nth-child(10) > tbody:nth-child(1) > tr:nth-child(2) > td:nth-child(3) > a:nth-child(70)`\n",
    "\n",
    "Doesn't look straight forward, might need another way in"
   ]
  },
  {
   "cell_type": "code",
   "execution_count": 14,
   "metadata": {
    "collapsed": true,
    "deletable": true,
    "editable": true
   },
   "outputs": [],
   "source": [
    "# browser = webdriver.Firefox(executable_path = '/usr/local/bin/geckodriver')\n",
    "# browser.get('http://www.football-data.co.uk/spainm.php')\n",
    "# elem = browser.find_element_by_css_selector('table:nth-child(10) > tbody:nth-child(1) > tr:nth-child(2) > td:nth-child(3) > a:nth-child(96)')\n",
    "# elem.click()\n",
    "# elem = browser.find_element_by_css_selector('body > table:nth-child(10) > tbody:nth-child(1) > tr:nth-child(2) > td:nth-child(3) > a:nth-child(81)')\n",
    "# elem.click()\n",
    "# elem = browser.find_element_by_css_selector('table:nth-child(10) > tbody:nth-child(1) > tr:nth-child(2) > td:nth-child(3) > a:nth-child(70)')\n",
    "# elem.click()"
   ]
  },
  {
   "cell_type": "code",
   "execution_count": 8,
   "metadata": {
    "collapsed": true
   },
   "outputs": [],
   "source": [
    "fp = webdriver.FirefoxProfile()\n",
    "fp.set_preference('browser.helperApps.neverAsk.saveToDisk', \"text/csv, text/comma-separated-values\")\n",
    "browser = webdriver.Firefox(executable_path = '/usr/local/bin/geckodriver', firefox_profile=fp)\n",
    "browser.get('http://www.football-data.co.uk/spainm.php')\n",
    "elem = browser.find_element_by_css_selector('body > table:nth-child(10) > tbody:nth-child(1) > tr:nth-child(2) > td:nth-child(3) > a:nth-child(15)')\n",
    "elem.click()\n",
    "elem = browser.find_element_by_css_selector('body > table:nth-child(10) > tbody:nth-child(1) > tr:nth-child(2) > td:nth-child(3) > a:nth-child(81)')\n",
    "elem.click()\n",
    "elem = browser.find_element_by_css_selector('table:nth-child(10) > tbody:nth-child(1) > tr:nth-child(2) > td:nth-child(3) > a:nth-child(70)')\n",
    "elem.click()"
   ]
  },
  {
   "cell_type": "code",
   "execution_count": null,
   "metadata": {
    "collapsed": true
   },
   "outputs": [],
   "source": []
  }
 ],
 "metadata": {
  "kernelspec": {
   "display_name": "Python 3",
   "language": "python",
   "name": "python3"
  },
  "language_info": {
   "codemirror_mode": {
    "name": "ipython",
    "version": 3
   },
   "file_extension": ".py",
   "mimetype": "text/x-python",
   "name": "python",
   "nbconvert_exporter": "python",
   "pygments_lexer": "ipython3",
   "version": "3.6.4"
  }
 },
 "nbformat": 4,
 "nbformat_minor": 2
}
