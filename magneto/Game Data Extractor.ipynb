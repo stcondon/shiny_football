{
 "cells": [
  {
   "cell_type": "markdown",
   "metadata": {
    "deletable": true,
    "editable": true
   },
   "source": [
    "# Now we pull down that sweet sweet game data"
   ]
  },
  {
   "cell_type": "code",
   "execution_count": 2,
   "metadata": {
    "collapsed": true,
    "deletable": true,
    "editable": true
   },
   "outputs": [],
   "source": [
    "from selenium import webdriver\n",
    "import requests\n",
    "from bs4 import BeautifulSoup\n",
    "import re\n",
    "import pandas as pd\n",
    "# import numpy as np"
   ]
  },
  {
   "cell_type": "markdown",
   "metadata": {
    "deletable": true,
    "editable": true
   },
   "source": [
    "## sopa bonita to count and properly aim xpaths\n",
    "### should I make a pandas data frame a input?\n",
    "look at old pandas stuff"
   ]
  },
  {
   "cell_type": "code",
   "execution_count": 3,
   "metadata": {
    "collapsed": true,
    "deletable": true,
    "editable": true
   },
   "outputs": [],
   "source": [
    "## Inputs\n",
    "# country = 'spain'\n",
    "country = 'england'"
   ]
  },
  {
   "cell_type": "code",
   "execution_count": 6,
   "metadata": {
    "collapsed": false,
    "deletable": true,
    "editable": true
   },
   "outputs": [],
   "source": [
    "## testing ground\n",
    "res = requests.get('http://www.football-data.co.uk/' + country + 'm.php')# res is thing in latin\n",
    "soup = BeautifulSoup(res.content, \"lxml\")\n",
    "temp = soup.find_all('i')\n",
    "years = []\n",
    "for x in temp:\n",
    "    years.append(str(x))\n",
    "years = years[1:]\n",
    "years = [i.split('>Season ')[1].split('<')[0].replace('/','_') for i in years]\n",
    "temp = soup.find_all('a', href = re.compile('.csv'))\n",
    "comps = []\n",
    "for x in temp:\n",
    "    comps.append(str(x))\n",
    "comps = [i.split('>')[1].split('<')[0] for i in comps]\n",
    "## Now convert them to numbers, i like a lambda for this\n",
    "temp = [i for i, x in enumerate(comps) if x == comps[0]]\n",
    "year = -1\n",
    "for comp in range(0,len(comps)):\n",
    "    if comp in temp:\n",
    "        year += 1\n",
    "        comps[comp] = country.capitalize() + '_1_' + years[year] + '.csv'\n",
    "        next_league = 2\n",
    "    else:\n",
    "        comps[comp] = country.capitalize() + '_' + str(next_league) + '_' + years[year] + '.csv'\n",
    "        next_league += 1\n",
    "## Now rbind them and then we get to the browser part\n",
    "\n",
    "\n",
    "# fp = webdriver.FirefoxProfile()\n",
    "# fp.set_preference('browser.helperApps.neverAsk.saveToDisk', \"text/csv, text/comma-separated-values\")\n",
    "# browser = webdriver.Firefox(executable_path = '/usr/local/bin/geckodriver', firefox_profile=fp)\n",
    "# browser.get('http://www.football-data.co.uk/' + country + 'm.php')\n",
    "# elems = browser.find_elements_by_tag_name('i')\n",
    "# df = pd.DataFrame(elems)"
   ]
  },
  {
   "cell_type": "code",
   "execution_count": 39,
   "metadata": {
    "collapsed": false
   },
   "outputs": [
    {
     "data": {
      "text/plain": [
       "['England_1_2017_2018.csv',\n",
       " 'England_2_2017_2018.csv',\n",
       " 'England_3_2017_2018.csv',\n",
       " 'England_4_2017_2018.csv',\n",
       " 'England_5_2017_2018.csv',\n",
       " 'England_1_2016_2017.csv',\n",
       " 'England_2_2016_2017.csv',\n",
       " 'England_3_2016_2017.csv',\n",
       " 'England_4_2016_2017.csv',\n",
       " 'England_5_2016_2017.csv',\n",
       " 'England_1_2015_2016.csv',\n",
       " 'England_2_2015_2016.csv',\n",
       " 'England_3_2015_2016.csv',\n",
       " 'England_4_2015_2016.csv',\n",
       " 'England_5_2015_2016.csv',\n",
       " 'England_1_2014_2015.csv',\n",
       " 'England_2_2014_2015.csv',\n",
       " 'England_3_2014_2015.csv',\n",
       " 'England_4_2014_2015.csv',\n",
       " 'England_5_2014_2015.csv',\n",
       " 'England_1_2013_2014.csv',\n",
       " 'England_2_2013_2014.csv',\n",
       " 'England_3_2013_2014.csv',\n",
       " 'England_4_2013_2014.csv',\n",
       " 'England_5_2013_2014.csv',\n",
       " 'England_1_2012_2013.csv',\n",
       " 'England_2_2012_2013.csv',\n",
       " 'England_3_2012_2013.csv',\n",
       " 'England_4_2012_2013.csv',\n",
       " 'England_5_2012_2013.csv',\n",
       " 'England_1_2011_2012.csv',\n",
       " 'England_2_2011_2012.csv',\n",
       " 'England_3_2011_2012.csv',\n",
       " 'England_4_2011_2012.csv',\n",
       " 'England_5_2011_2012.csv',\n",
       " 'England_1_2010_2011.csv',\n",
       " 'England_2_2010_2011.csv',\n",
       " 'England_3_2010_2011.csv',\n",
       " 'England_4_2010_2011.csv',\n",
       " 'England_5_2010_2011.csv',\n",
       " 'England_1_2009_2010.csv',\n",
       " 'England_2_2009_2010.csv',\n",
       " 'England_3_2009_2010.csv',\n",
       " 'England_4_2009_2010.csv',\n",
       " 'England_5_2009_2010.csv',\n",
       " 'England_1_2008_2009.csv',\n",
       " 'England_2_2008_2009.csv',\n",
       " 'England_3_2008_2009.csv',\n",
       " 'England_4_2008_2009.csv',\n",
       " 'England_5_2008_2009.csv',\n",
       " 'England_1_2007_2008.csv',\n",
       " 'England_2_2007_2008.csv',\n",
       " 'England_3_2007_2008.csv',\n",
       " 'England_4_2007_2008.csv',\n",
       " 'England_5_2007_2008.csv',\n",
       " 'England_1_2006_2007.csv',\n",
       " 'England_2_2006_2007.csv',\n",
       " 'England_3_2006_2007.csv',\n",
       " 'England_4_2006_2007.csv',\n",
       " 'England_5_2006_2007.csv',\n",
       " 'England_1_2005_2006.csv',\n",
       " 'England_2_2005_2006.csv',\n",
       " 'England_3_2005_2006.csv',\n",
       " 'England_4_2005_2006.csv',\n",
       " 'England_5_2005_2006.csv',\n",
       " 'England_1_2004_2005.csv',\n",
       " 'England_2_2004_2005.csv',\n",
       " 'England_3_2004_2005.csv',\n",
       " 'England_4_2004_2005.csv',\n",
       " 'England_1_2003_2004.csv',\n",
       " 'England_2_2003_2004.csv',\n",
       " 'England_3_2003_2004.csv',\n",
       " 'England_4_2003_2004.csv',\n",
       " 'England_1_2002_2003.csv',\n",
       " 'England_2_2002_2003.csv',\n",
       " 'England_3_2002_2003.csv',\n",
       " 'England_4_2002_2003.csv',\n",
       " 'England_1_2001_2002.csv',\n",
       " 'England_2_2001_2002.csv',\n",
       " 'England_3_2001_2002.csv',\n",
       " 'England_4_2001_2002.csv',\n",
       " 'England_1_2000_2001.csv',\n",
       " 'England_2_2000_2001.csv',\n",
       " 'England_3_2000_2001.csv',\n",
       " 'England_4_2000_2001.csv',\n",
       " 'England_1_1999_2000.csv',\n",
       " 'England_2_1999_2000.csv',\n",
       " 'England_3_1999_2000.csv',\n",
       " 'England_4_1999_2000.csv',\n",
       " 'England_1_1998_1999.csv',\n",
       " 'England_2_1998_1999.csv',\n",
       " 'England_3_1998_1999.csv',\n",
       " 'England_4_1998_1999.csv',\n",
       " 'England_1_1997_1998.csv',\n",
       " 'England_2_1997_1998.csv',\n",
       " 'England_3_1997_1998.csv',\n",
       " 'England_4_1997_1998.csv',\n",
       " 'England_1_1996_1997.csv',\n",
       " 'England_2_1996_1997.csv',\n",
       " 'England_3_1996_1997.csv',\n",
       " 'England_4_1996_1997.csv',\n",
       " 'England_1_1995_1996.csv',\n",
       " 'England_2_1995_1996.csv',\n",
       " 'England_3_1995_1996.csv',\n",
       " 'England_4_1995_1996.csv',\n",
       " 'England_1_1994_1995.csv',\n",
       " 'England_2_1994_1995.csv',\n",
       " 'England_3_1994_1995.csv',\n",
       " 'England_4_1994_1995.csv',\n",
       " 'England_1_1993_1994.csv',\n",
       " 'England_2_1993_1994.csv',\n",
       " 'England_3_1993_1994.csv',\n",
       " 'England_4_1993_1994.csv']"
      ]
     },
     "execution_count": 39,
     "metadata": {},
     "output_type": "execute_result"
    }
   ],
   "source": [
    "temp = soup.find_all('a', href = re.compile('.csv'))\n",
    "comps = []\n",
    "for x in temp:\n",
    "    comps.append(str(x))\n",
    "comps = [i.split('>')[1].split('<')[0] for i in comps]\n",
    "## Now convert them to numbers, i like a lambda for this\n",
    "temp = [i for i, x in enumerate(comps) if x == comps[0]]\n",
    "year = -1\n",
    "for comp in range(0,len(comps)):\n",
    "    if comp in temp:\n",
    "        year += 1\n",
    "        comps[comp] = country.capitalize() + '_1_' + years[year] + '.csv'\n",
    "        next_league = 2\n",
    "    else:\n",
    "        comps[comp] = country.capitalize() + '_' + str(next_league) + '_' + years[year] + '.csv'\n",
    "        next_league += 1\n",
    "comps"
   ]
  },
  {
   "cell_type": "code",
   "execution_count": 8,
   "metadata": {
    "collapsed": false,
    "deletable": true,
    "editable": true
   },
   "outputs": [
    {
     "data": {
      "text/plain": [
       "(<a href=\"mmz4281/9394/E0.csv\">Premier League</a>, bs4.element.Tag)"
      ]
     },
     "execution_count": 8,
     "metadata": {},
     "output_type": "execute_result"
    }
   ],
   "source": [
    "season_files[-4], type(season_files[0])"
   ]
  },
  {
   "cell_type": "markdown",
   "metadata": {
    "deletable": true,
    "editable": true
   },
   "source": [
    "1. Spain and England differ in terms of naming conventions, england is zero indexed and spain is not, gonna have to name em as they come in\n",
    "2. Don't forget a lil error handling"
   ]
  },
  {
   "cell_type": "markdown",
   "metadata": {
    "deletable": true,
    "editable": true
   },
   "source": [
    "# HOLD FOR NOW\n",
    "## also, remember to make sure the write to csv overwrites old ones correctly, now that we're versioning"
   ]
  },
  {
   "cell_type": "code",
   "execution_count": 14,
   "metadata": {
    "collapsed": true,
    "deletable": true,
    "editable": true
   },
   "outputs": [],
   "source": [
    "# browser = webdriver.Firefox(executable_path = '/usr/local/bin/geckodriver')\n",
    "# browser.get('http://www.football-data.co.uk/spainm.php')\n",
    "# elem = browser.find_element_by_css_selector('table:nth-child(10) > tbody:nth-child(1) > tr:nth-child(2) > td:nth-child(3) > a:nth-child(96)')\n",
    "# elem.click()\n",
    "# elem = browser.find_element_by_css_selector('body > table:nth-child(10) > tbody:nth-child(1) > tr:nth-child(2) > td:nth-child(3) > a:nth-child(81)')\n",
    "# elem.click()\n",
    "# elem = browser.find_element_by_css_selector('table:nth-child(10) > tbody:nth-child(1) > tr:nth-child(2) > td:nth-child(3) > a:nth-child(70)')\n",
    "# elem.click()"
   ]
  },
  {
   "cell_type": "code",
   "execution_count": 2,
   "metadata": {
    "collapsed": true,
    "deletable": true,
    "editable": true
   },
   "outputs": [],
   "source": [
    "fp = webdriver.FirefoxProfile()\n",
    "fp.set_preference('browser.helperApps.neverAsk.saveToDisk', \"text/csv, text/comma-separated-values\")\n",
    "browser = webdriver.Firefox(executable_path = '/usr/local/bin/geckodriver', firefox_profile=fp)\n",
    "browser.get('http://www.football-data.co.uk/spainm.php')\n",
    "# elem = browser.find_element_by_css_selector('body > table:nth-child(10) > tbody:nth-child(1) > tr:nth-child(2) > td:nth-child(3) > a:nth-child(15)')\n",
    "# elem.click()\n",
    "# elem = browser.find_element_by_css_selector('body > table:nth-child(10) > tbody:nth-child(1) > tr:nth-child(2) > td:nth-child(3) > a:nth-child(81)')\n",
    "# elem.click()\n",
    "# elem = browser.find_element_by_css_selector('table:nth-child(10) > tbody:nth-child(1) > tr:nth-child(2) > td:nth-child(3) > a:nth-child(70)')\n",
    "# elem.click()"
   ]
  },
  {
   "cell_type": "markdown",
   "metadata": {
    "deletable": true,
    "editable": true
   },
   "source": [
    "### Hard to sort out formula in css formula, maybe check out xpath cuz it sounds cool"
   ]
  },
  {
   "cell_type": "code",
   "execution_count": 3,
   "metadata": {
    "collapsed": false,
    "deletable": true,
    "editable": true
   },
   "outputs": [
    {
     "data": {
      "text/plain": [
       "22"
      ]
     },
     "execution_count": 3,
     "metadata": {},
     "output_type": "execute_result"
    }
   ],
   "source": [
    "# elem = browser.find_element_by_xpath('/html/body/table[5]/tbody/tr[2]/td[3]/a[26]')\n",
    "# elem.click()\n",
    "# elem = browser.find_element_by_xpath('/html/body/table[5]/tbody/tr[2]/td[3]/a[24]')\n",
    "# elem.click()\n",
    "# elem = browser.find_element_by_xpath('/html/body/table[5]/tbody/tr[2]/td[3]/a[22]')\n",
    "# elem.click()\n",
    "# /html/body/table[5]/tbody/tr[2]/td[3]/a[2] # spain primera 17/18\n",
    "# /html/body/table[5]/tbody/tr[2]/td[3]/a[3] # spain segunda 17/18\n",
    "# /html/body/table[5]/tbody/tr[2]/td[3]/a[48]\n",
    "\n",
    "# /html/body/table[5]/tbody/tr[2]/td[3]/a[2] # england prem 17/18\n",
    "# /html/body/table[5]/tbody/tr[2]/td[1]/table[8]/tbody/tr[6]/td/div/a/b\n",
    "# browser.find_elements_by_xpath(\"//*[starts-with(html\\/body\\/table\\[5\\]\\/tbody\\/tr\\[2]\\/td\\[3\\]\\/a\\[\\d{1,}\\])\")\n",
    "# /html/body/table[5]/tbody/tr[2]/td[3]/a[49]\n",
    "elems = browser.find_elements_by_link_text('La Liga Segunda Division')\n",
    "len(elems)"
   ]
  },
  {
   "cell_type": "code",
   "execution_count": 5,
   "metadata": {
    "collapsed": false,
    "deletable": true,
    "editable": true
   },
   "outputs": [
    {
     "data": {
      "text/plain": [
       "<selenium.webdriver.firefox.webelement.FirefoxWebElement (session=\"7824cf2f-98df-8e46-9801-2dc881548301\", element=\"c9566f11-ad66-8645-a7c7-ee0f3d6c5343\")>"
      ]
     },
     "execution_count": 5,
     "metadata": {},
     "output_type": "execute_result"
    }
   ],
   "source": [
    "# /html/body/table[5]/tbody/tr[2]/td[3]/i[1]\n",
    "# /html/body/table[5]/tbody/tr[2]/td[3]/a[2]\n",
    "# /html/body/table[5]/tbody/tr[2]/td[3]/i[1]\n",
    "elems = browser.find_elements_by_tag_name('i')\n",
    "elems[1]"
   ]
  },
  {
   "cell_type": "code",
   "execution_count": 4,
   "metadata": {
    "collapsed": false,
    "deletable": true,
    "editable": true
   },
   "outputs": [
    {
     "data": {
      "text/plain": [
       "list"
      ]
     },
     "execution_count": 4,
     "metadata": {},
     "output_type": "execute_result"
    }
   ],
   "source": [
    "type(elems)"
   ]
  },
  {
   "cell_type": "code",
   "execution_count": 5,
   "metadata": {
    "collapsed": true,
    "deletable": true,
    "editable": true
   },
   "outputs": [],
   "source": [
    "df = pd.DataFrame(elems)"
   ]
  },
  {
   "cell_type": "code",
   "execution_count": 17,
   "metadata": {
    "collapsed": false,
    "deletable": true,
    "editable": true
   },
   "outputs": [
    {
     "data": {
      "text/plain": [
       "selenium.webdriver.firefox.webelement.FirefoxWebElement"
      ]
     },
     "execution_count": 17,
     "metadata": {},
     "output_type": "execute_result"
    }
   ],
   "source": [
    "type(df[0][0])"
   ]
  },
  {
   "cell_type": "code",
   "execution_count": null,
   "metadata": {
    "collapsed": true,
    "deletable": true,
    "editable": true
   },
   "outputs": [],
   "source": []
  }
 ],
 "metadata": {
  "kernelspec": {
   "display_name": "Python 3",
   "language": "python",
   "name": "python3"
  },
  "language_info": {
   "codemirror_mode": {
    "name": "ipython",
    "version": 3
   },
   "file_extension": ".py",
   "mimetype": "text/x-python",
   "name": "python",
   "nbconvert_exporter": "python",
   "pygments_lexer": "ipython3",
   "version": "3.6.4"
  }
 },
 "nbformat": 4,
 "nbformat_minor": 2
}
