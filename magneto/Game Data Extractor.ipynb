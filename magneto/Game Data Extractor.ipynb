{
 "cells": [
  {
   "cell_type": "markdown",
   "metadata": {
    "deletable": true,
    "editable": true
   },
   "source": [
    "# Now we pull down that sweet sweet game data"
   ]
  },
  {
   "cell_type": "code",
   "execution_count": 2,
   "metadata": {
    "collapsed": true,
    "deletable": true,
    "editable": true
   },
   "outputs": [],
   "source": [
    "from selenium import webdriver"
   ]
  },
  {
   "cell_type": "code",
   "execution_count": 11,
   "metadata": {
    "collapsed": false,
    "deletable": true,
    "editable": true
   },
   "outputs": [],
   "source": [
    "# browser = webdriver.Firefox(executable_path = '/usr/local/bin/geckodriver')\n",
    "# browser.get('http://www.football-data.co.uk/spainm.php')\n",
    "# elem = browser.find_element_by_css_selector('body > table:nth-child(10) > tbody:nth-child(1) > tr:nth-child(2) > td:nth-child(3) > a:nth-child(15)')\n",
    "# elem.click()"
   ]
  },
  {
   "cell_type": "markdown",
   "metadata": {
    "deletable": true,
    "editable": true
   },
   "source": [
    "10/11: `body > table:nth-child(10) > tbody:nth-child(1) > tr:nth-child(2) > td:nth-child(3) > a:nth-child(96)`\n",
    "\n",
    "11/12: `body > table:nth-child(10) > tbody:nth-child(1) > tr:nth-child(2) > td:nth-child(3) > a:nth-child(81)`\n",
    "\n",
    "12/13: `body > table:nth-child(10) > tbody:nth-child(1) > tr:nth-child(2) > td:nth-child(3) > a:nth-child(70)`\n",
    "\n",
    "Doesn't look straight forward, might need another way in"
   ]
  },
  {
   "cell_type": "code",
   "execution_count": 14,
   "metadata": {
    "collapsed": true,
    "deletable": true,
    "editable": true
   },
   "outputs": [],
   "source": [
    "# browser = webdriver.Firefox(executable_path = '/usr/local/bin/geckodriver')\n",
    "# browser.get('http://www.football-data.co.uk/spainm.php')\n",
    "# elem = browser.find_element_by_css_selector('table:nth-child(10) > tbody:nth-child(1) > tr:nth-child(2) > td:nth-child(3) > a:nth-child(96)')\n",
    "# elem.click()\n",
    "# elem = browser.find_element_by_css_selector('body > table:nth-child(10) > tbody:nth-child(1) > tr:nth-child(2) > td:nth-child(3) > a:nth-child(81)')\n",
    "# elem.click()\n",
    "# elem = browser.find_element_by_css_selector('table:nth-child(10) > tbody:nth-child(1) > tr:nth-child(2) > td:nth-child(3) > a:nth-child(70)')\n",
    "# elem.click()"
   ]
  },
  {
   "cell_type": "code",
   "execution_count": 3,
   "metadata": {
    "collapsed": true,
    "deletable": true,
    "editable": true
   },
   "outputs": [],
   "source": [
    "fp = webdriver.FirefoxProfile()\n",
    "fp.set_preference('browser.helperApps.neverAsk.saveToDisk', \"text/csv, text/comma-separated-values\")\n",
    "browser = webdriver.Firefox(executable_path = '/usr/local/bin/geckodriver', firefox_profile=fp)\n",
    "browser.get('http://www.football-data.co.uk/spainm.php')\n",
    "# elem = browser.find_element_by_css_selector('body > table:nth-child(10) > tbody:nth-child(1) > tr:nth-child(2) > td:nth-child(3) > a:nth-child(15)')\n",
    "# elem.click()\n",
    "# elem = browser.find_element_by_css_selector('body > table:nth-child(10) > tbody:nth-child(1) > tr:nth-child(2) > td:nth-child(3) > a:nth-child(81)')\n",
    "# elem.click()\n",
    "# elem = browser.find_element_by_css_selector('table:nth-child(10) > tbody:nth-child(1) > tr:nth-child(2) > td:nth-child(3) > a:nth-child(70)')\n",
    "# elem.click()"
   ]
  },
  {
   "cell_type": "markdown",
   "metadata": {
    "deletable": true,
    "editable": true
   },
   "source": [
    "### Hard to sort out formula in css formula, maybe check out xpath cuz it sounds cool"
   ]
  },
  {
   "cell_type": "code",
   "execution_count": 4,
   "metadata": {
    "collapsed": false,
    "deletable": true,
    "editable": true
   },
   "outputs": [
    {
     "data": {
      "text/plain": [
       "22"
      ]
     },
     "execution_count": 4,
     "metadata": {},
     "output_type": "execute_result"
    }
   ],
   "source": [
    "# elem = browser.find_element_by_xpath('/html/body/table[5]/tbody/tr[2]/td[3]/a[26]')\n",
    "# elem.click()\n",
    "# elem = browser.find_element_by_xpath('/html/body/table[5]/tbody/tr[2]/td[3]/a[24]')\n",
    "# elem.click()\n",
    "# elem = browser.find_element_by_xpath('/html/body/table[5]/tbody/tr[2]/td[3]/a[22]')\n",
    "# elem.click()\n",
    "# /html/body/table[5]/tbody/tr[2]/td[3]/a[2] # spain primera 17/18\n",
    "# /html/body/table[5]/tbody/tr[2]/td[3]/a[3] # spain segunda 17/18\n",
    "# /html/body/table[5]/tbody/tr[2]/td[3]/a[48]\n",
    "\n",
    "# /html/body/table[5]/tbody/tr[2]/td[3]/a[2] # england prem 17/18\n",
    "# /html/body/table[5]/tbody/tr[2]/td[1]/table[8]/tbody/tr[6]/td/div/a/b\n",
    "# browser.find_elements_by_xpath(\"//*[starts-with(html\\/body\\/table\\[5\\]\\/tbody\\/tr\\[2]\\/td\\[3\\]\\/a\\[\\d{1,}\\])\")\n",
    "# /html/body/table[5]/tbody/tr[2]/td[3]/a[49]\n",
    "elems = browser.find_elements_by_link_text('La Liga Segunda Division')\n",
    "len(elems)"
   ]
  },
  {
   "cell_type": "code",
   "execution_count": 5,
   "metadata": {
    "collapsed": false,
    "deletable": true,
    "editable": true
   },
   "outputs": [
    {
     "data": {
      "text/plain": [
       "<selenium.webdriver.firefox.webelement.FirefoxWebElement (session=\"7824cf2f-98df-8e46-9801-2dc881548301\", element=\"c9566f11-ad66-8645-a7c7-ee0f3d6c5343\")>"
      ]
     },
     "execution_count": 5,
     "metadata": {},
     "output_type": "execute_result"
    }
   ],
   "source": [
    "# /html/body/table[5]/tbody/tr[2]/td[3]/i[1]\n",
    "# /html/body/table[5]/tbody/tr[2]/td[3]/a[2]\n",
    "# /html/body/table[5]/tbody/tr[2]/td[3]/i[1]\n",
    "elems = browser.find_elements_by_tag_name('i')\n",
    "elems[1]"
   ]
  },
  {
   "cell_type": "markdown",
   "metadata": {},
   "source": [
    "## No hay de que, just pull 1st and second league and can find that by find link text"
   ]
  },
  {
   "cell_type": "code",
   "execution_count": null,
   "metadata": {
    "collapsed": true
   },
   "outputs": [],
   "source": []
  }
 ],
 "metadata": {
  "kernelspec": {
   "display_name": "Python 3",
   "language": "python",
   "name": "python3"
  },
  "language_info": {
   "codemirror_mode": {
    "name": "ipython",
    "version": 3
   },
   "file_extension": ".py",
   "mimetype": "text/x-python",
   "name": "python",
   "nbconvert_exporter": "python",
   "pygments_lexer": "ipython3",
   "version": "3.6.4"
  }
 },
 "nbformat": 4,
 "nbformat_minor": 2
}
