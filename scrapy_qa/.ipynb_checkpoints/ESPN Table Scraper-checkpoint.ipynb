{
 "cells": [
  {
   "cell_type": "code",
   "execution_count": 1,
   "metadata": {
    "collapsed": false,
    "deletable": true,
    "editable": true
   },
   "outputs": [],
   "source": [
    "%matplotlib inline\n",
    "import requests\n",
    "import pandas as pd\n",
    "import numpy as np\n",
    "from bs4 import BeautifulSoup"
   ]
  },
  {
   "cell_type": "markdown",
   "metadata": {
    "deletable": true,
    "editable": true
   },
   "source": [
    "switch to requests, compelled by [sweigart](https://automatetheboringstuff.com/chapter11/) and [ppperry](\n",
    "https://stackoverflow.com/questions/2018026/what-are-the-differences-between-the-urllib-urllib2-and-requests-module)\n",
    "\n",
    "START W/ http://www.espn.com/soccer/standings/_/league/ger.1/season/2010"
   ]
  },
  {
   "cell_type": "code",
   "execution_count": 2,
   "metadata": {
    "collapsed": false,
    "deletable": true,
    "editable": true
   },
   "outputs": [
    {
     "data": {
      "text/plain": [
       "146912"
      ]
     },
     "execution_count": 2,
     "metadata": {},
     "output_type": "execute_result"
    }
   ],
   "source": [
    "res = requests.get('http://www.espn.com/soccer/standings/_/league/ger.1/season/' + '2010')\n",
    "try:\n",
    "    res.raise_for_status()\n",
    "except Exception as exc:\n",
    "    print('There was a problem: %s' % (exc))\n",
    "len(res.text)\n",
    "## 146912"
   ]
  },
  {
   "cell_type": "markdown",
   "metadata": {
    "deletable": true,
    "editable": true
   },
   "source": [
    "now find way to loop through every year from 2002 on, string manipulation time"
   ]
  },
  {
   "cell_type": "markdown",
   "metadata": {
    "deletable": true,
    "editable": true
   },
   "source": [
    "now that works, loop thru strings?"
   ]
  },
  {
   "cell_type": "code",
   "execution_count": 3,
   "metadata": {
    "collapsed": false,
    "deletable": true,
    "editable": true
   },
   "outputs": [
    {
     "name": "stderr",
     "output_type": "stream",
     "text": [
      "/Library/Frameworks/Python.framework/Versions/3.6/lib/python3.6/site-packages/bs4/__init__.py:181: UserWarning: No parser was explicitly specified, so I'm using the best available HTML parser for this system (\"lxml\"). This usually isn't a problem, but if you run this code on another system, or in a different virtual environment, it may use a different parser and behave differently.\n",
      "\n",
      "The code that caused this warning is on line 193 of the file /Library/Frameworks/Python.framework/Versions/3.6/lib/python3.6/runpy.py. To get rid of this warning, change code that looks like this:\n",
      "\n",
      " BeautifulSoup(YOUR_MARKUP})\n",
      "\n",
      "to this:\n",
      "\n",
      " BeautifulSoup(YOUR_MARKUP, \"lxml\")\n",
      "\n",
      "  markup_type=markup_type))\n"
     ]
    }
   ],
   "source": [
    "espn_soup = BeautifulSoup(res.text)"
   ]
  },
  {
   "cell_type": "code",
   "execution_count": 7,
   "metadata": {
    "collapsed": false,
    "deletable": true,
    "editable": true
   },
   "outputs": [
    {
     "data": {
      "text/plain": [
       "bs4.BeautifulSoup"
      ]
     },
     "execution_count": 7,
     "metadata": {},
     "output_type": "execute_result"
    }
   ],
   "source": [
    "type(espn_soup)"
   ]
  },
  {
   "cell_type": "code",
   "execution_count": 9,
   "metadata": {
    "collapsed": false,
    "deletable": true,
    "editable": true
   },
   "outputs": [],
   "source": [
    "elems = espn_soup.select('table.standings')"
   ]
  },
  {
   "cell_type": "code",
   "execution_count": 11,
   "metadata": {
    "collapsed": false,
    "deletable": true,
    "editable": true,
    "scrolled": true
   },
   "outputs": [
    {
     "data": {
      "text/plain": [
       "bs4.element.Tag"
      ]
     },
     "execution_count": 11,
     "metadata": {},
     "output_type": "execute_result"
    }
   ],
   "source": [
    "type(elems[0])"
   ]
  },
  {
   "cell_type": "code",
   "execution_count": 12,
   "metadata": {
    "collapsed": false,
    "deletable": true,
    "editable": true
   },
   "outputs": [
    {
     "data": {
      "text/plain": [
       "'2010/2011GPWDLFAGDP1Borussia DortmundBVB3423656722+45752Bayer LeverkusenLEV3420866444+20683Bayern MunichBMU3419878140+41654Hannover 96HAN34193124945+4605MainzMNZ34184125239+13586NurnbergNUR34138134745+2477KaiserslauternFCK34137144851-3468Hamburg SVHSV34129134652-6459SC FreiburgFRE34135164150-94410FC CologneCOL34135164762-154411TSG HoffenheimHOF34111013505004312VfB StuttgartSTU34126166059+14213Werder BremenBRE341011134761-144114Schalke 04SCH34117163844-64015VfL WolfsburgWLF34911144348-53816Borussia MonchengladbachMGB34106184865-173617Eintracht FrankfurtFRA3497183149-183418St PauliSTP3485213568-3329'"
      ]
     },
     "execution_count": 12,
     "metadata": {},
     "output_type": "execute_result"
    }
   ],
   "source": [
    "elems[0].getText()"
   ]
  },
  {
   "cell_type": "markdown",
   "metadata": {
    "collapsed": false,
    "deletable": true,
    "editable": true
   },
   "source": [
    "[thank you](https://pythonprogramminglanguage.com/web-scraping-with-pandas-and-beautifulsoup)"
   ]
  },
  {
   "cell_type": "code",
   "execution_count": 4,
   "metadata": {
    "collapsed": false,
    "deletable": true,
    "editable": true
   },
   "outputs": [],
   "source": [
    "soup = BeautifulSoup(res.content, \"lxml\")"
   ]
  },
  {
   "cell_type": "code",
   "execution_count": 9,
   "metadata": {
    "collapsed": false,
    "deletable": true,
    "editable": true
   },
   "outputs": [
    {
     "data": {
      "text/plain": [
       "[                        2010/2011  GP   W   D   L   F   A  GD   P\n",
       " 0           1Borussia DortmundBVB  34  23   6   5  67  22  45  75\n",
       " 1            2Bayer LeverkusenLEV  34  20   8   6  64  44  20  68\n",
       " 2               3Bayern MunichBMU  34  19   8   7  81  40  41  65\n",
       " 3                 4Hannover 96HAN  34  19   3  12  49  45   4  60\n",
       " 4                       5MainzMNZ  34  18   4  12  52  39  13  58\n",
       " 5                    6NurnbergNUR  34  13   8  13  47  45   2  47\n",
       " 6              7KaiserslauternFCK  34  13   7  14  48  51  -3  46\n",
       " 7                  8Hamburg SVHSV  34  12   9  13  46  52  -6  45\n",
       " 8                 9SC FreiburgFRE  34  13   5  16  41  50  -9  44\n",
       " 9                 10FC CologneCOL  34  13   5  16  47  62 -15  44\n",
       " 10            11TSG HoffenheimHOF  34  11  10  13  50  50   0  43\n",
       " 11             12VfB StuttgartSTU  34  12   6  16  60  59   1  42\n",
       " 12             13Werder BremenBRE  34  10  11  13  47  61 -14  41\n",
       " 13                14Schalke 04SCH  34  11   7  16  38  44  -6  40\n",
       " 14             15VfL WolfsburgWLF  34   9  11  14  43  48  -5  38\n",
       " 15  16Borussia MonchengladbachMGB  34  10   6  18  48  65 -17  36\n",
       " 16       17Eintracht FrankfurtFRA  34   9   7  18  31  49 -18  34\n",
       " 17                  18St PauliSTP  34   8   5  21  35  68 -33  29]"
      ]
     },
     "execution_count": 9,
     "metadata": {},
     "output_type": "execute_result"
    }
   ],
   "source": [
    "table = soup.find_all('table')[0] \n",
    "pd.read_html(str(table))"
   ]
  },
  {
   "cell_type": "code",
   "execution_count": 12,
   "metadata": {
    "collapsed": false,
    "deletable": true,
    "editable": true
   },
   "outputs": [
    {
     "data": {
      "text/html": [
       "<div>\n",
       "<style scoped>\n",
       "    .dataframe tbody tr th:only-of-type {\n",
       "        vertical-align: middle;\n",
       "    }\n",
       "\n",
       "    .dataframe tbody tr th {\n",
       "        vertical-align: top;\n",
       "    }\n",
       "\n",
       "    .dataframe thead th {\n",
       "        text-align: right;\n",
       "    }\n",
       "</style>\n",
       "<table border=\"1\" class=\"dataframe\">\n",
       "  <thead>\n",
       "    <tr style=\"text-align: right;\">\n",
       "      <th></th>\n",
       "      <th>2010/2011</th>\n",
       "      <th>GP</th>\n",
       "      <th>W</th>\n",
       "      <th>D</th>\n",
       "      <th>L</th>\n",
       "      <th>F</th>\n",
       "      <th>A</th>\n",
       "      <th>GD</th>\n",
       "      <th>P</th>\n",
       "    </tr>\n",
       "  </thead>\n",
       "  <tbody>\n",
       "    <tr>\n",
       "      <th>0</th>\n",
       "      <td>1Borussia DortmundBVB</td>\n",
       "      <td>34</td>\n",
       "      <td>23</td>\n",
       "      <td>6</td>\n",
       "      <td>5</td>\n",
       "      <td>67</td>\n",
       "      <td>22</td>\n",
       "      <td>45</td>\n",
       "      <td>75</td>\n",
       "    </tr>\n",
       "    <tr>\n",
       "      <th>1</th>\n",
       "      <td>2Bayer LeverkusenLEV</td>\n",
       "      <td>34</td>\n",
       "      <td>20</td>\n",
       "      <td>8</td>\n",
       "      <td>6</td>\n",
       "      <td>64</td>\n",
       "      <td>44</td>\n",
       "      <td>20</td>\n",
       "      <td>68</td>\n",
       "    </tr>\n",
       "    <tr>\n",
       "      <th>2</th>\n",
       "      <td>3Bayern MunichBMU</td>\n",
       "      <td>34</td>\n",
       "      <td>19</td>\n",
       "      <td>8</td>\n",
       "      <td>7</td>\n",
       "      <td>81</td>\n",
       "      <td>40</td>\n",
       "      <td>41</td>\n",
       "      <td>65</td>\n",
       "    </tr>\n",
       "    <tr>\n",
       "      <th>3</th>\n",
       "      <td>4Hannover 96HAN</td>\n",
       "      <td>34</td>\n",
       "      <td>19</td>\n",
       "      <td>3</td>\n",
       "      <td>12</td>\n",
       "      <td>49</td>\n",
       "      <td>45</td>\n",
       "      <td>4</td>\n",
       "      <td>60</td>\n",
       "    </tr>\n",
       "    <tr>\n",
       "      <th>4</th>\n",
       "      <td>5MainzMNZ</td>\n",
       "      <td>34</td>\n",
       "      <td>18</td>\n",
       "      <td>4</td>\n",
       "      <td>12</td>\n",
       "      <td>52</td>\n",
       "      <td>39</td>\n",
       "      <td>13</td>\n",
       "      <td>58</td>\n",
       "    </tr>\n",
       "    <tr>\n",
       "      <th>5</th>\n",
       "      <td>6NurnbergNUR</td>\n",
       "      <td>34</td>\n",
       "      <td>13</td>\n",
       "      <td>8</td>\n",
       "      <td>13</td>\n",
       "      <td>47</td>\n",
       "      <td>45</td>\n",
       "      <td>2</td>\n",
       "      <td>47</td>\n",
       "    </tr>\n",
       "    <tr>\n",
       "      <th>6</th>\n",
       "      <td>7KaiserslauternFCK</td>\n",
       "      <td>34</td>\n",
       "      <td>13</td>\n",
       "      <td>7</td>\n",
       "      <td>14</td>\n",
       "      <td>48</td>\n",
       "      <td>51</td>\n",
       "      <td>-3</td>\n",
       "      <td>46</td>\n",
       "    </tr>\n",
       "    <tr>\n",
       "      <th>7</th>\n",
       "      <td>8Hamburg SVHSV</td>\n",
       "      <td>34</td>\n",
       "      <td>12</td>\n",
       "      <td>9</td>\n",
       "      <td>13</td>\n",
       "      <td>46</td>\n",
       "      <td>52</td>\n",
       "      <td>-6</td>\n",
       "      <td>45</td>\n",
       "    </tr>\n",
       "    <tr>\n",
       "      <th>8</th>\n",
       "      <td>9SC FreiburgFRE</td>\n",
       "      <td>34</td>\n",
       "      <td>13</td>\n",
       "      <td>5</td>\n",
       "      <td>16</td>\n",
       "      <td>41</td>\n",
       "      <td>50</td>\n",
       "      <td>-9</td>\n",
       "      <td>44</td>\n",
       "    </tr>\n",
       "    <tr>\n",
       "      <th>9</th>\n",
       "      <td>10FC CologneCOL</td>\n",
       "      <td>34</td>\n",
       "      <td>13</td>\n",
       "      <td>5</td>\n",
       "      <td>16</td>\n",
       "      <td>47</td>\n",
       "      <td>62</td>\n",
       "      <td>-15</td>\n",
       "      <td>44</td>\n",
       "    </tr>\n",
       "    <tr>\n",
       "      <th>10</th>\n",
       "      <td>11TSG HoffenheimHOF</td>\n",
       "      <td>34</td>\n",
       "      <td>11</td>\n",
       "      <td>10</td>\n",
       "      <td>13</td>\n",
       "      <td>50</td>\n",
       "      <td>50</td>\n",
       "      <td>0</td>\n",
       "      <td>43</td>\n",
       "    </tr>\n",
       "    <tr>\n",
       "      <th>11</th>\n",
       "      <td>12VfB StuttgartSTU</td>\n",
       "      <td>34</td>\n",
       "      <td>12</td>\n",
       "      <td>6</td>\n",
       "      <td>16</td>\n",
       "      <td>60</td>\n",
       "      <td>59</td>\n",
       "      <td>1</td>\n",
       "      <td>42</td>\n",
       "    </tr>\n",
       "    <tr>\n",
       "      <th>12</th>\n",
       "      <td>13Werder BremenBRE</td>\n",
       "      <td>34</td>\n",
       "      <td>10</td>\n",
       "      <td>11</td>\n",
       "      <td>13</td>\n",
       "      <td>47</td>\n",
       "      <td>61</td>\n",
       "      <td>-14</td>\n",
       "      <td>41</td>\n",
       "    </tr>\n",
       "    <tr>\n",
       "      <th>13</th>\n",
       "      <td>14Schalke 04SCH</td>\n",
       "      <td>34</td>\n",
       "      <td>11</td>\n",
       "      <td>7</td>\n",
       "      <td>16</td>\n",
       "      <td>38</td>\n",
       "      <td>44</td>\n",
       "      <td>-6</td>\n",
       "      <td>40</td>\n",
       "    </tr>\n",
       "    <tr>\n",
       "      <th>14</th>\n",
       "      <td>15VfL WolfsburgWLF</td>\n",
       "      <td>34</td>\n",
       "      <td>9</td>\n",
       "      <td>11</td>\n",
       "      <td>14</td>\n",
       "      <td>43</td>\n",
       "      <td>48</td>\n",
       "      <td>-5</td>\n",
       "      <td>38</td>\n",
       "    </tr>\n",
       "    <tr>\n",
       "      <th>15</th>\n",
       "      <td>16Borussia MonchengladbachMGB</td>\n",
       "      <td>34</td>\n",
       "      <td>10</td>\n",
       "      <td>6</td>\n",
       "      <td>18</td>\n",
       "      <td>48</td>\n",
       "      <td>65</td>\n",
       "      <td>-17</td>\n",
       "      <td>36</td>\n",
       "    </tr>\n",
       "    <tr>\n",
       "      <th>16</th>\n",
       "      <td>17Eintracht FrankfurtFRA</td>\n",
       "      <td>34</td>\n",
       "      <td>9</td>\n",
       "      <td>7</td>\n",
       "      <td>18</td>\n",
       "      <td>31</td>\n",
       "      <td>49</td>\n",
       "      <td>-18</td>\n",
       "      <td>34</td>\n",
       "    </tr>\n",
       "    <tr>\n",
       "      <th>17</th>\n",
       "      <td>18St PauliSTP</td>\n",
       "      <td>34</td>\n",
       "      <td>8</td>\n",
       "      <td>5</td>\n",
       "      <td>21</td>\n",
       "      <td>35</td>\n",
       "      <td>68</td>\n",
       "      <td>-33</td>\n",
       "      <td>29</td>\n",
       "    </tr>\n",
       "  </tbody>\n",
       "</table>\n",
       "</div>"
      ],
      "text/plain": [
       "                        2010/2011  GP   W   D   L   F   A  GD   P\n",
       "0           1Borussia DortmundBVB  34  23   6   5  67  22  45  75\n",
       "1            2Bayer LeverkusenLEV  34  20   8   6  64  44  20  68\n",
       "2               3Bayern MunichBMU  34  19   8   7  81  40  41  65\n",
       "3                 4Hannover 96HAN  34  19   3  12  49  45   4  60\n",
       "4                       5MainzMNZ  34  18   4  12  52  39  13  58\n",
       "5                    6NurnbergNUR  34  13   8  13  47  45   2  47\n",
       "6              7KaiserslauternFCK  34  13   7  14  48  51  -3  46\n",
       "7                  8Hamburg SVHSV  34  12   9  13  46  52  -6  45\n",
       "8                 9SC FreiburgFRE  34  13   5  16  41  50  -9  44\n",
       "9                 10FC CologneCOL  34  13   5  16  47  62 -15  44\n",
       "10            11TSG HoffenheimHOF  34  11  10  13  50  50   0  43\n",
       "11             12VfB StuttgartSTU  34  12   6  16  60  59   1  42\n",
       "12             13Werder BremenBRE  34  10  11  13  47  61 -14  41\n",
       "13                14Schalke 04SCH  34  11   7  16  38  44  -6  40\n",
       "14             15VfL WolfsburgWLF  34   9  11  14  43  48  -5  38\n",
       "15  16Borussia MonchengladbachMGB  34  10   6  18  48  65 -17  36\n",
       "16       17Eintracht FrankfurtFRA  34   9   7  18  31  49 -18  34\n",
       "17                  18St PauliSTP  34   8   5  21  35  68 -33  29"
      ]
     },
     "execution_count": 12,
     "metadata": {},
     "output_type": "execute_result"
    }
   ],
   "source": [
    "df[0]"
   ]
  },
  {
   "cell_type": "markdown",
   "metadata": {
    "deletable": true,
    "editable": true
   },
   "source": [
    "# now time to clean the strings and then get to looping through this bitch\n",
    "also, check for column types, might need conversion from `browsy_scrapy.py`"
   ]
  },
  {
   "cell_type": "code",
   "execution_count": null,
   "metadata": {
    "collapsed": true,
    "deletable": true,
    "editable": true
   },
   "outputs": [],
   "source": []
  }
 ],
 "metadata": {
  "kernelspec": {
   "display_name": "Python 3",
   "language": "python",
   "name": "python3"
  },
  "language_info": {
   "codemirror_mode": {
    "name": "ipython",
    "version": 3
   },
   "file_extension": ".py",
   "mimetype": "text/x-python",
   "name": "python",
   "nbconvert_exporter": "python",
   "pygments_lexer": "ipython3",
   "version": "3.6.4"
  }
 },
 "nbformat": 4,
 "nbformat_minor": 2
}
