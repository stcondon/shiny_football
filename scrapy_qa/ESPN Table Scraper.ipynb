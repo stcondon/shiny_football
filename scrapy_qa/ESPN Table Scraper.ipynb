{
 "cells": [
  {
   "cell_type": "code",
   "execution_count": 1,
   "metadata": {
    "collapsed": false,
    "deletable": true,
    "editable": true
   },
   "outputs": [],
   "source": [
    "%matplotlib inline\n",
    "import requests\n",
    "import pandas as pd\n",
    "import numpy as np\n",
    "from bs4 import BeautifulSoup"
   ]
  },
  {
   "cell_type": "markdown",
   "metadata": {
    "deletable": true,
    "editable": true
   },
   "source": [
    "switch to requests, compelled by [sweigart](https://automatetheboringstuff.com/chapter11/) and [ppperry](\n",
    "https://stackoverflow.com/questions/2018026/what-are-the-differences-between-the-urllib-urllib2-and-requests-module)\n",
    "\n",
    "START W/ http://www.espn.com/soccer/standings/_/league/ger.1/season/2010\n",
    "\n",
    "## Inputs"
   ]
  },
  {
   "cell_type": "code",
   "execution_count": 2,
   "metadata": {
    "collapsed": true,
    "deletable": true,
    "editable": true
   },
   "outputs": [],
   "source": [
    "country = 'germany'\n",
    "league = '1'\n",
    "first_year = '2010' # remember current season doesn't have year variable in url string"
   ]
  },
  {
   "cell_type": "code",
   "execution_count": 3,
   "metadata": {
    "collapsed": false,
    "deletable": true,
    "editable": true
   },
   "outputs": [
    {
     "data": {
      "text/plain": [
       "338192"
      ]
     },
     "execution_count": 3,
     "metadata": {},
     "output_type": "execute_result"
    }
   ],
   "source": [
    "countries = {'germany':'ger','england':'eng'}\n",
    "res = requests.get('http://www.espn.com/soccer/standings/_/league/' + countries[country] + '.' + league + '/season/' \n",
    "                   + first_year)\n",
    "try:\n",
    "    res.raise_for_status()\n",
    "except Exception as exc:\n",
    "    print('There was a problem: %s' % (exc))\n",
    "len(res.text)\n",
    "## 140615"
   ]
  },
  {
   "cell_type": "markdown",
   "metadata": {
    "deletable": true,
    "editable": true
   },
   "source": [
    "now find way to loop through every year from 2002 on, string manipulation time"
   ]
  },
  {
   "cell_type": "markdown",
   "metadata": {
    "deletable": true,
    "editable": true
   },
   "source": [
    "now that works, loop thru strings?"
   ]
  },
  {
   "cell_type": "markdown",
   "metadata": {
    "collapsed": false,
    "deletable": true,
    "editable": true
   },
   "source": [
    "[thank you](https://pythonprogramminglanguage.com/web-scraping-with-pandas-and-beautifulsoup)"
   ]
  },
  {
   "cell_type": "code",
   "execution_count": 4,
   "metadata": {
    "collapsed": false,
    "deletable": true,
    "editable": true
   },
   "outputs": [],
   "source": [
    "soup = BeautifulSoup(res.content, \"lxml\")"
   ]
  },
  {
   "cell_type": "code",
   "execution_count": 5,
   "metadata": {
    "collapsed": false,
    "deletable": true,
    "editable": true
   },
   "outputs": [],
   "source": [
    "table = soup.find_all('table')[0] \n",
    "df = pd.read_html(str(table))"
   ]
  },
  {
   "cell_type": "markdown",
   "metadata": {
    "deletable": true,
    "editable": true
   },
   "source": [
    "# now time to clean the strings and then get to looping through this bitch\n",
    "also, check for column types, might need conversion from `browsy_scrapy.py`"
   ]
  },
  {
   "cell_type": "code",
   "execution_count": 6,
   "metadata": {
    "collapsed": false,
    "deletable": true,
    "editable": true
   },
   "outputs": [
    {
     "data": {
      "text/plain": [
       "0            Borussia Dortmund\n",
       "1             Bayer Leverkusen\n",
       "2                Bayern Munich\n",
       "3                    Hannover \n",
       "4                        Mainz\n",
       "5                     Nurnberg\n",
       "6               Kaiserslautern\n",
       "7                   Hamburg SV\n",
       "8                  SC Freiburg\n",
       "9                   FC Cologne\n",
       "10              TSG Hoffenheim\n",
       "11               VfB Stuttgart\n",
       "12               Werder Bremen\n",
       "13                    Schalke \n",
       "14               VfL Wolfsburg\n",
       "15    Borussia Monchengladbach\n",
       "16         Eintracht Frankfurt\n",
       "17                    St Pauli\n",
       "Name: team, dtype: object"
      ]
     },
     "execution_count": 6,
     "metadata": {},
     "output_type": "execute_result"
    }
   ],
   "source": [
    "df[0].columns = ['team', 'GP', 'W', 'D', 'L', 'F', 'A', 'GD', 'P']\n",
    "df[0]['team'] = df[0]['team'].str.replace('[0-9]','')\n",
    "df[0]['team'] = df[0]['team'].str.replace('[A-Z]{3}$','')\n",
    "df[0]['team']"
   ]
  },
  {
   "cell_type": "code",
   "execution_count": 7,
   "metadata": {
    "collapsed": false,
    "deletable": true,
    "editable": true
   },
   "outputs": [
    {
     "data": {
      "text/html": [
       "<div>\n",
       "<style scoped>\n",
       "    .dataframe tbody tr th:only-of-type {\n",
       "        vertical-align: middle;\n",
       "    }\n",
       "\n",
       "    .dataframe tbody tr th {\n",
       "        vertical-align: top;\n",
       "    }\n",
       "\n",
       "    .dataframe thead th {\n",
       "        text-align: right;\n",
       "    }\n",
       "</style>\n",
       "<table border=\"1\" class=\"dataframe\">\n",
       "  <thead>\n",
       "    <tr style=\"text-align: right;\">\n",
       "      <th></th>\n",
       "      <th>team</th>\n",
       "      <th>GP</th>\n",
       "      <th>W</th>\n",
       "      <th>D</th>\n",
       "      <th>L</th>\n",
       "      <th>F</th>\n",
       "      <th>A</th>\n",
       "      <th>GD</th>\n",
       "      <th>P</th>\n",
       "    </tr>\n",
       "  </thead>\n",
       "  <tbody>\n",
       "    <tr>\n",
       "      <th>0</th>\n",
       "      <td>Borussia Dortmund</td>\n",
       "      <td>34</td>\n",
       "      <td>23</td>\n",
       "      <td>6</td>\n",
       "      <td>5</td>\n",
       "      <td>67</td>\n",
       "      <td>22</td>\n",
       "      <td>45</td>\n",
       "      <td>75</td>\n",
       "    </tr>\n",
       "    <tr>\n",
       "      <th>1</th>\n",
       "      <td>Bayer Leverkusen</td>\n",
       "      <td>34</td>\n",
       "      <td>20</td>\n",
       "      <td>8</td>\n",
       "      <td>6</td>\n",
       "      <td>64</td>\n",
       "      <td>44</td>\n",
       "      <td>20</td>\n",
       "      <td>68</td>\n",
       "    </tr>\n",
       "    <tr>\n",
       "      <th>2</th>\n",
       "      <td>Bayern Munich</td>\n",
       "      <td>34</td>\n",
       "      <td>19</td>\n",
       "      <td>8</td>\n",
       "      <td>7</td>\n",
       "      <td>81</td>\n",
       "      <td>40</td>\n",
       "      <td>41</td>\n",
       "      <td>65</td>\n",
       "    </tr>\n",
       "    <tr>\n",
       "      <th>3</th>\n",
       "      <td>Hannover</td>\n",
       "      <td>34</td>\n",
       "      <td>19</td>\n",
       "      <td>3</td>\n",
       "      <td>12</td>\n",
       "      <td>49</td>\n",
       "      <td>45</td>\n",
       "      <td>4</td>\n",
       "      <td>60</td>\n",
       "    </tr>\n",
       "    <tr>\n",
       "      <th>4</th>\n",
       "      <td>Mainz</td>\n",
       "      <td>34</td>\n",
       "      <td>18</td>\n",
       "      <td>4</td>\n",
       "      <td>12</td>\n",
       "      <td>52</td>\n",
       "      <td>39</td>\n",
       "      <td>13</td>\n",
       "      <td>58</td>\n",
       "    </tr>\n",
       "    <tr>\n",
       "      <th>5</th>\n",
       "      <td>Nurnberg</td>\n",
       "      <td>34</td>\n",
       "      <td>13</td>\n",
       "      <td>8</td>\n",
       "      <td>13</td>\n",
       "      <td>47</td>\n",
       "      <td>45</td>\n",
       "      <td>2</td>\n",
       "      <td>47</td>\n",
       "    </tr>\n",
       "    <tr>\n",
       "      <th>6</th>\n",
       "      <td>Kaiserslautern</td>\n",
       "      <td>34</td>\n",
       "      <td>13</td>\n",
       "      <td>7</td>\n",
       "      <td>14</td>\n",
       "      <td>48</td>\n",
       "      <td>51</td>\n",
       "      <td>-3</td>\n",
       "      <td>46</td>\n",
       "    </tr>\n",
       "    <tr>\n",
       "      <th>7</th>\n",
       "      <td>Hamburg SV</td>\n",
       "      <td>34</td>\n",
       "      <td>12</td>\n",
       "      <td>9</td>\n",
       "      <td>13</td>\n",
       "      <td>46</td>\n",
       "      <td>52</td>\n",
       "      <td>-6</td>\n",
       "      <td>45</td>\n",
       "    </tr>\n",
       "    <tr>\n",
       "      <th>8</th>\n",
       "      <td>SC Freiburg</td>\n",
       "      <td>34</td>\n",
       "      <td>13</td>\n",
       "      <td>5</td>\n",
       "      <td>16</td>\n",
       "      <td>41</td>\n",
       "      <td>50</td>\n",
       "      <td>-9</td>\n",
       "      <td>44</td>\n",
       "    </tr>\n",
       "    <tr>\n",
       "      <th>9</th>\n",
       "      <td>FC Cologne</td>\n",
       "      <td>34</td>\n",
       "      <td>13</td>\n",
       "      <td>5</td>\n",
       "      <td>16</td>\n",
       "      <td>47</td>\n",
       "      <td>62</td>\n",
       "      <td>-15</td>\n",
       "      <td>44</td>\n",
       "    </tr>\n",
       "    <tr>\n",
       "      <th>10</th>\n",
       "      <td>TSG Hoffenheim</td>\n",
       "      <td>34</td>\n",
       "      <td>11</td>\n",
       "      <td>10</td>\n",
       "      <td>13</td>\n",
       "      <td>50</td>\n",
       "      <td>50</td>\n",
       "      <td>0</td>\n",
       "      <td>43</td>\n",
       "    </tr>\n",
       "    <tr>\n",
       "      <th>11</th>\n",
       "      <td>VfB Stuttgart</td>\n",
       "      <td>34</td>\n",
       "      <td>12</td>\n",
       "      <td>6</td>\n",
       "      <td>16</td>\n",
       "      <td>60</td>\n",
       "      <td>59</td>\n",
       "      <td>1</td>\n",
       "      <td>42</td>\n",
       "    </tr>\n",
       "    <tr>\n",
       "      <th>12</th>\n",
       "      <td>Werder Bremen</td>\n",
       "      <td>34</td>\n",
       "      <td>10</td>\n",
       "      <td>11</td>\n",
       "      <td>13</td>\n",
       "      <td>47</td>\n",
       "      <td>61</td>\n",
       "      <td>-14</td>\n",
       "      <td>41</td>\n",
       "    </tr>\n",
       "    <tr>\n",
       "      <th>13</th>\n",
       "      <td>Schalke</td>\n",
       "      <td>34</td>\n",
       "      <td>11</td>\n",
       "      <td>7</td>\n",
       "      <td>16</td>\n",
       "      <td>38</td>\n",
       "      <td>44</td>\n",
       "      <td>-6</td>\n",
       "      <td>40</td>\n",
       "    </tr>\n",
       "    <tr>\n",
       "      <th>14</th>\n",
       "      <td>VfL Wolfsburg</td>\n",
       "      <td>34</td>\n",
       "      <td>9</td>\n",
       "      <td>11</td>\n",
       "      <td>14</td>\n",
       "      <td>43</td>\n",
       "      <td>48</td>\n",
       "      <td>-5</td>\n",
       "      <td>38</td>\n",
       "    </tr>\n",
       "    <tr>\n",
       "      <th>15</th>\n",
       "      <td>Borussia Monchengladbach</td>\n",
       "      <td>34</td>\n",
       "      <td>10</td>\n",
       "      <td>6</td>\n",
       "      <td>18</td>\n",
       "      <td>48</td>\n",
       "      <td>65</td>\n",
       "      <td>-17</td>\n",
       "      <td>36</td>\n",
       "    </tr>\n",
       "    <tr>\n",
       "      <th>16</th>\n",
       "      <td>Eintracht Frankfurt</td>\n",
       "      <td>34</td>\n",
       "      <td>9</td>\n",
       "      <td>7</td>\n",
       "      <td>18</td>\n",
       "      <td>31</td>\n",
       "      <td>49</td>\n",
       "      <td>-18</td>\n",
       "      <td>34</td>\n",
       "    </tr>\n",
       "    <tr>\n",
       "      <th>17</th>\n",
       "      <td>St Pauli</td>\n",
       "      <td>34</td>\n",
       "      <td>8</td>\n",
       "      <td>5</td>\n",
       "      <td>21</td>\n",
       "      <td>35</td>\n",
       "      <td>68</td>\n",
       "      <td>-33</td>\n",
       "      <td>29</td>\n",
       "    </tr>\n",
       "  </tbody>\n",
       "</table>\n",
       "</div>"
      ],
      "text/plain": [
       "                        team  GP   W   D   L   F   A  GD   P\n",
       "0          Borussia Dortmund  34  23   6   5  67  22  45  75\n",
       "1           Bayer Leverkusen  34  20   8   6  64  44  20  68\n",
       "2              Bayern Munich  34  19   8   7  81  40  41  65\n",
       "3                  Hannover   34  19   3  12  49  45   4  60\n",
       "4                      Mainz  34  18   4  12  52  39  13  58\n",
       "5                   Nurnberg  34  13   8  13  47  45   2  47\n",
       "6             Kaiserslautern  34  13   7  14  48  51  -3  46\n",
       "7                 Hamburg SV  34  12   9  13  46  52  -6  45\n",
       "8                SC Freiburg  34  13   5  16  41  50  -9  44\n",
       "9                 FC Cologne  34  13   5  16  47  62 -15  44\n",
       "10            TSG Hoffenheim  34  11  10  13  50  50   0  43\n",
       "11             VfB Stuttgart  34  12   6  16  60  59   1  42\n",
       "12             Werder Bremen  34  10  11  13  47  61 -14  41\n",
       "13                  Schalke   34  11   7  16  38  44  -6  40\n",
       "14             VfL Wolfsburg  34   9  11  14  43  48  -5  38\n",
       "15  Borussia Monchengladbach  34  10   6  18  48  65 -17  36\n",
       "16       Eintracht Frankfurt  34   9   7  18  31  49 -18  34\n",
       "17                  St Pauli  34   8   5  21  35  68 -33  29"
      ]
     },
     "execution_count": 7,
     "metadata": {},
     "output_type": "execute_result"
    }
   ],
   "source": [
    "df[0]"
   ]
  },
  {
   "cell_type": "markdown",
   "metadata": {},
   "source": [
    "### Write to csv"
   ]
  },
  {
   "cell_type": "code",
   "execution_count": 12,
   "metadata": {
    "collapsed": false,
    "deletable": true,
    "editable": true
   },
   "outputs": [],
   "source": [
    "df[0].to_csv('data/germany/Germany_1_2010_2011.csv', index = False)"
   ]
  },
  {
   "cell_type": "code",
   "execution_count": 8,
   "metadata": {
    "collapsed": false,
    "deletable": true,
    "editable": true
   },
   "outputs": [
    {
     "data": {
      "text/plain": [
       "'Germany'"
      ]
     },
     "execution_count": 8,
     "metadata": {},
     "output_type": "execute_result"
    }
   ],
   "source": [
    "# myString[:1].upper() + myString[1:]\n",
    "country[:1].upper() + country[1:]"
   ]
  },
  {
   "cell_type": "code",
   "execution_count": 17,
   "metadata": {
    "collapsed": false
   },
   "outputs": [
    {
     "name": "stdout",
     "output_type": "stream",
     "text": [
      "2002\n",
      "2003\n",
      "2004\n",
      "2005\n",
      "2006\n",
      "2007\n",
      "2008\n",
      "2009\n",
      "2010\n",
      "2011\n",
      "2012\n",
      "2013\n",
      "2014\n",
      "2015\n",
      "2016\n"
     ]
    }
   ],
   "source": [
    "first_year = '2002'\n",
    "last_year = '2017'\n",
    "for year in range(int(first_year),int(last_year)):\n",
    "    print(year)"
   ]
  },
  {
   "cell_type": "code",
   "execution_count": null,
   "metadata": {
    "collapsed": true,
    "deletable": true,
    "editable": true
   },
   "outputs": [],
   "source": [
    "def scrapy_qa(country, league = '1', first_year = '2002', last_year = '2017'):\n",
    "    countries = {'germany':'ger','england':'eng', 'france':'fra', 'spain':'esp', 'italy':'ita'}\n",
    "    for year in range(int(first_year),int(last_year)):\n",
    "        res = requests.get('http://www.espn.com/soccer/standings/_/league/' + countries[country] + '.' + league\n",
    "                           + '/season/' + year)\n",
    "        try:\n",
    "            res.raise_for_status()\n",
    "        except Exception as exc:\n",
    "            print('There was a problem: %s' % (exc))\n",
    "        soup = BeautifulSoup(res.content, \"lxml\")\n",
    "        table = soup.find_all('table')[0] \n",
    "        df = pd.read_html(str(table))\n",
    "        df[0].columns = ['team', 'GP', 'W', 'D', 'L', 'F', 'A', 'GD', 'P']\n",
    "        df[0]['team'] = df[0]['team'].str.replace('[0-9]','')\n",
    "        df[0]['team'] = df[0]['team'].str.replace('[A-Z]{3}$','')\n",
    "        df[0]['team']\n",
    "#         df[0].to_csv('data/germany/Germany_1_2010_2011.csv', index = False)\n",
    "#         myString[:1].upper() + myString[1:]\n",
    "        df[0].to_csv('data/' + country + '/'  country[:1].upper() + country[1:] + '_' + league + '_' + first_year + \n",
    "                    str(int(first_year) + 1) + '.csv', index = False)\n",
    "        "
   ]
  }
 ],
 "metadata": {
  "kernelspec": {
   "display_name": "Python 3",
   "language": "python",
   "name": "python3"
  },
  "language_info": {
   "codemirror_mode": {
    "name": "ipython",
    "version": 3
   },
   "file_extension": ".py",
   "mimetype": "text/x-python",
   "name": "python",
   "nbconvert_exporter": "python",
   "pygments_lexer": "ipython3",
   "version": "3.6.4"
  }
 },
 "nbformat": 4,
 "nbformat_minor": 2
}
